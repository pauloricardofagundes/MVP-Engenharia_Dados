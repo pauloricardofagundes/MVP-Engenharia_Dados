{
 "cells": [
  {
   "cell_type": "markdown",
   "metadata": {
    "application/vnd.databricks.v1+cell": {
     "cellMetadata": {},
     "inputWidgets": {},
     "nuid": "a7ed9b28-ccf3-4979-b3f7-a49059667364",
     "showTitle": false,
     "tableResultSettingsMap": {},
     "title": ""
    }
   },
   "source": [
    "# Projeto Banco de Dados\n",
    "# Ocorrências Policiais de São Paulo/SP"
   ]
  },
  {
   "cell_type": "markdown",
   "metadata": {
    "application/vnd.databricks.v1+cell": {
     "cellMetadata": {},
     "inputWidgets": {},
     "nuid": "3b5f9591-5de5-4409-a813-79d5d55f6c61",
     "showTitle": false,
     "tableResultSettingsMap": {},
     "title": ""
    }
   },
   "source": [
    "# Objetivo\n",
    "Com base em informações de Ocorrências Policiais do Estado de São Paulo, entre os anos de 2002 e 2021, pretende-se neste projeto avaliar alguns questionamentos, como:\n",
    "\n",
    "1. 5 anos com maiores incidentes de homicidio;\n",
    "2. Top 10 cidades em registros de homicídio nos últimos 10 anos (2011-2021);\n",
    "3. Top 5 cidades em registros de Roubo e Furto;\n",
    "4. Histórico dos últimos 5 anos de Roubo e Furtos na cidade de São Paulo;\n",
    "5. Top 5 anos em quantidade de ocorrências policiais no estado.\n"
   ]
  },
  {
   "cell_type": "markdown",
   "metadata": {
    "application/vnd.databricks.v1+cell": {
     "cellMetadata": {},
     "inputWidgets": {},
     "nuid": "761054de-e64b-4732-aae4-33d0f19c3252",
     "showTitle": false,
     "tableResultSettingsMap": {},
     "title": ""
    }
   },
   "source": [
    "# 1. Detalhamento\n",
    "\n",
    "## Origem dos Dados\n",
    "Dados públicos fornecidos pela Secretaria de Segurança Pública do Estado de São Paulo\n",
    "\n",
    "## Catálogo de Dados\n",
    "\n",
    "1. Tabela de Ocorrências:\n",
    "\n",
    "![Catalogo Ocorrencias](https://raw.githubusercontent.com/pauloricardofagundes/MVP-Engenharia_Dados/refs/heads/main/Catalogo_dados_MVP1.png)\n",
    "\n",
    "2. Tabela de Municípios:\n",
    "- Serão carregados para criação do banco de dados apenas os 2 campos necessários para identificação do município\n",
    "\n",
    "![Catalogo Municipios](https://raw.githubusercontent.com/pauloricardofagundes/MVP-Engenharia_Dados/refs/heads/main/Catalogo_dados_MVP2.png)"
   ]
  },
  {
   "cell_type": "code",
   "execution_count": 0,
   "metadata": {
    "application/vnd.databricks.v1+cell": {
     "cellMetadata": {
      "byteLimit": 2048000,
      "rowLimit": 10000
     },
     "inputWidgets": {},
     "nuid": "12b0bc66-854a-4c6b-a230-60d1d84f8003",
     "showTitle": true,
     "tableResultSettingsMap": {},
     "title": "Importação de Bibliotecas"
    }
   },
   "outputs": [],
   "source": [
    "from pyspark import SparkFiles\n",
    "from pyspark.sql import SparkSession\n",
    "from pyspark.sql.types import IntegerType\n",
    "from pyspark.sql.window import Window\n",
    "from pyspark.sql.functions import col, row_number\n",
    "\n"
   ]
  },
  {
   "cell_type": "markdown",
   "metadata": {
    "application/vnd.databricks.v1+cell": {
     "cellMetadata": {},
     "inputWidgets": {},
     "nuid": "80f7462e-5cb2-4cbe-b6e5-aaeeb7c5ab90",
     "showTitle": false,
     "tableResultSettingsMap": {},
     "title": ""
    }
   },
   "source": [
    "# 2. Importação dos dados para criação do Database"
   ]
  },
  {
   "cell_type": "code",
   "execution_count": 0,
   "metadata": {
    "application/vnd.databricks.v1+cell": {
     "cellMetadata": {
      "byteLimit": 2048000,
      "rowLimit": 10000
     },
     "inputWidgets": {},
     "nuid": "a8b53d72-e017-4f4a-b57d-8c2f0f1d5c82",
     "showTitle": true,
     "tableResultSettingsMap": {},
     "title": "Importação de Arquivos"
    }
   },
   "outputs": [],
   "source": [
    "# Base de dados com registro de ocorrências\n",
    "url_1 = \"https://raw.githubusercontent.com/pauloricardofagundes/MVP-Engenharia_Dados/refs/heads/main/br_sp_gov_ssp_ocorrencias_registradas.csv\"  \n",
    "\n",
    "# Base de identificação de municícipios, para join com a base de ocorrências\n",
    "url_2 = \"https://raw.githubusercontent.com/pauloricardofagundes/MVP-Engenharia_Dados/refs/heads/main/br_bd_diretorios_brasil_municipio.csv\"  \n",
    "\n",
    "spark.sparkContext.addFile(url_1)\n",
    "df_bd_ocorrencias = spark.read.csv(\n",
    "    \"file://\" + SparkFiles.get(\"br_sp_gov_ssp_ocorrencias_registradas.csv\"),\n",
    "    header=True,\n",
    "    inferSchema=False,\n",
    ")\n",
    "\n",
    "spark.sparkContext.addFile(url_2)\n",
    "df_bd_municipios = spark.read.csv(\n",
    "    \"file://\" + SparkFiles.get(\"br_bd_diretorios_brasil_municipio.csv\"),\n",
    "    header=True,\n",
    "    inferSchema=False,\n",
    ")\n",
    "\n",
    "# Convertendo campos numéricos de texto para número inteiro\n",
    "Campos_Num = [  \"ano\",\n",
    "                \"homicidio_doloso\",\n",
    "                \"numero_de_vitimas_em_homicidio_doloso\",\n",
    "                \"homicidio_doloso_por_acidente_de_transito\",\n",
    "                \"numero_de_vitimas_em_homicidio_doloso_por_acidente_de_transito\",\n",
    "                \"homicidio_culposo_por_acidente_de_transito\",\n",
    "                \"homicidio_culposo_outros\",\n",
    "                \"tentativa_de_homicidio\",\n",
    "                \"lesao_corporal_seguida_de_morte\",\n",
    "                \"lesao_corporal_dolosa\",\n",
    "                \"lesao_corporal_culposa_por_acidente_de_transito\",\n",
    "                \"lesao_corporal_culposa_outras\",\n",
    "                \"latrocinio\",\n",
    "                \"numero_de_vitimas_em_latrocinio\",\n",
    "                \"total_de_estupro\",\n",
    "                \"estupro\",\n",
    "                \"estupro_de_vulneravel\",\n",
    "                \"total_de_roubo_outros\",\n",
    "                \"roubo_outros\",\n",
    "                \"roubo_de_veiculo\",\n",
    "                \"roubo_a_banco\",\n",
    "                \"roubo_de_carga\",\n",
    "                \"furto_outros\",\n",
    "                \"furto_de_veiculo\"\n",
    "                ]\n",
    "\n",
    "for x in Campos_Num: \n",
    "    df_bd_ocorrencias = df_bd_ocorrencias.withColumn(x, df_bd_ocorrencias[x].cast(IntegerType()))\n",
    "\n",
    "# Selecionar colunas específicas da tabela de município\n",
    "colunas_desejadas = [\"id_municipio\", \"nome\"]\n",
    "df_bd_municipios = df_bd_municipios.select(colunas_desejadas)\n",
    "\n",
    "df_bd_ocorrencias = df_bd_ocorrencias.dropna()  # Deleta linhas sem valores\n",
    "df_bd_municipios = df_bd_municipios.dropna()  # Deleta linhas sem valores\n"
   ]
  },
  {
   "cell_type": "markdown",
   "metadata": {
    "application/vnd.databricks.v1+cell": {
     "cellMetadata": {},
     "inputWidgets": {},
     "nuid": "395fb6c7-1b8e-469f-91ba-b7bb0a12ef04",
     "showTitle": false,
     "tableResultSettingsMap": {},
     "title": ""
    }
   },
   "source": [
    "# 3. Criação do Banco de Dados"
   ]
  },
  {
   "cell_type": "code",
   "execution_count": 0,
   "metadata": {
    "application/vnd.databricks.v1+cell": {
     "cellMetadata": {
      "byteLimit": 2048000,
      "implicitDf": true,
      "rowLimit": 10000
     },
     "inputWidgets": {},
     "nuid": "40a3d230-838b-43bd-b3b6-2b17835f166e",
     "showTitle": true,
     "tableResultSettingsMap": {},
     "title": "Excluindo database para Recriá-lo"
    }
   },
   "outputs": [
    {
     "output_type": "display_data",
     "data": {
      "text/plain": [
       "\u001B[0;31m---------------------------------------------------------------------------\u001B[0m\n",
       "\u001B[0;31mAnalysisException\u001B[0m                         Traceback (most recent call last)\n",
       "File \u001B[0;32m<command-2543913894165253>:7\u001B[0m\n",
       "\u001B[1;32m      5\u001B[0m     display(df)\n",
       "\u001B[1;32m      6\u001B[0m     \u001B[38;5;28;01mreturn\u001B[39;00m df\n",
       "\u001B[0;32m----> 7\u001B[0m   _sqldf \u001B[38;5;241m=\u001B[39m \u001B[43m____databricks_percent_sql\u001B[49m\u001B[43m(\u001B[49m\u001B[43m)\u001B[49m\n",
       "\u001B[1;32m      8\u001B[0m \u001B[38;5;28;01mfinally\u001B[39;00m:\n",
       "\u001B[1;32m      9\u001B[0m   \u001B[38;5;28;01mdel\u001B[39;00m ____databricks_percent_sql\n",
       "\n",
       "File \u001B[0;32m<command-2543913894165253>:4\u001B[0m, in \u001B[0;36m____databricks_percent_sql\u001B[0;34m()\u001B[0m\n",
       "\u001B[1;32m      2\u001B[0m \u001B[38;5;28;01mdef\u001B[39;00m \u001B[38;5;21m____databricks_percent_sql\u001B[39m():\n",
       "\u001B[1;32m      3\u001B[0m   \u001B[38;5;28;01mimport\u001B[39;00m \u001B[38;5;21;01mbase64\u001B[39;00m\n",
       "\u001B[0;32m----> 4\u001B[0m   df \u001B[38;5;241m=\u001B[39m \u001B[43mspark\u001B[49m\u001B[38;5;241;43m.\u001B[39;49m\u001B[43msql\u001B[49m\u001B[43m(\u001B[49m\u001B[43mbase64\u001B[49m\u001B[38;5;241;43m.\u001B[39;49m\u001B[43mstandard_b64decode\u001B[49m\u001B[43m(\u001B[49m\u001B[38;5;124;43m\"\u001B[39;49m\u001B[38;5;124;43mRFJPUCBEQVRBQkFTRSBEYl9PY29ycmVuY2lhIC0tQ0FTQ0FERTs=\u001B[39;49m\u001B[38;5;124;43m\"\u001B[39;49m\u001B[43m)\u001B[49m\u001B[38;5;241;43m.\u001B[39;49m\u001B[43mdecode\u001B[49m\u001B[43m(\u001B[49m\u001B[43m)\u001B[49m\u001B[43m)\u001B[49m\n",
       "\u001B[1;32m      5\u001B[0m   display(df)\n",
       "\u001B[1;32m      6\u001B[0m   \u001B[38;5;28;01mreturn\u001B[39;00m df\n",
       "\n",
       "File \u001B[0;32m/databricks/spark/python/pyspark/instrumentation_utils.py:48\u001B[0m, in \u001B[0;36m_wrap_function.<locals>.wrapper\u001B[0;34m(*args, **kwargs)\u001B[0m\n",
       "\u001B[1;32m     46\u001B[0m start \u001B[38;5;241m=\u001B[39m time\u001B[38;5;241m.\u001B[39mperf_counter()\n",
       "\u001B[1;32m     47\u001B[0m \u001B[38;5;28;01mtry\u001B[39;00m:\n",
       "\u001B[0;32m---> 48\u001B[0m     res \u001B[38;5;241m=\u001B[39m \u001B[43mfunc\u001B[49m\u001B[43m(\u001B[49m\u001B[38;5;241;43m*\u001B[39;49m\u001B[43margs\u001B[49m\u001B[43m,\u001B[49m\u001B[43m \u001B[49m\u001B[38;5;241;43m*\u001B[39;49m\u001B[38;5;241;43m*\u001B[39;49m\u001B[43mkwargs\u001B[49m\u001B[43m)\u001B[49m\n",
       "\u001B[1;32m     49\u001B[0m     logger\u001B[38;5;241m.\u001B[39mlog_success(\n",
       "\u001B[1;32m     50\u001B[0m         module_name, class_name, function_name, time\u001B[38;5;241m.\u001B[39mperf_counter() \u001B[38;5;241m-\u001B[39m start, signature\n",
       "\u001B[1;32m     51\u001B[0m     )\n",
       "\u001B[1;32m     52\u001B[0m     \u001B[38;5;28;01mreturn\u001B[39;00m res\n",
       "\n",
       "File \u001B[0;32m/databricks/spark/python/pyspark/sql/session.py:1387\u001B[0m, in \u001B[0;36mSparkSession.sql\u001B[0;34m(self, sqlQuery, args, **kwargs)\u001B[0m\n",
       "\u001B[1;32m   1385\u001B[0m \u001B[38;5;28;01mtry\u001B[39;00m:\n",
       "\u001B[1;32m   1386\u001B[0m     litArgs \u001B[38;5;241m=\u001B[39m {k: _to_java_column(lit(v)) \u001B[38;5;28;01mfor\u001B[39;00m k, v \u001B[38;5;129;01min\u001B[39;00m (args \u001B[38;5;129;01mor\u001B[39;00m {})\u001B[38;5;241m.\u001B[39mitems()}\n",
       "\u001B[0;32m-> 1387\u001B[0m     \u001B[38;5;28;01mreturn\u001B[39;00m DataFrame(\u001B[38;5;28;43mself\u001B[39;49m\u001B[38;5;241;43m.\u001B[39;49m\u001B[43m_jsparkSession\u001B[49m\u001B[38;5;241;43m.\u001B[39;49m\u001B[43msql\u001B[49m\u001B[43m(\u001B[49m\u001B[43msqlQuery\u001B[49m\u001B[43m,\u001B[49m\u001B[43m \u001B[49m\u001B[43mlitArgs\u001B[49m\u001B[43m)\u001B[49m, \u001B[38;5;28mself\u001B[39m)\n",
       "\u001B[1;32m   1388\u001B[0m \u001B[38;5;28;01mfinally\u001B[39;00m:\n",
       "\u001B[1;32m   1389\u001B[0m     \u001B[38;5;28;01mif\u001B[39;00m \u001B[38;5;28mlen\u001B[39m(kwargs) \u001B[38;5;241m>\u001B[39m \u001B[38;5;241m0\u001B[39m:\n",
       "\n",
       "File \u001B[0;32m/databricks/spark/python/lib/py4j-0.10.9.5-src.zip/py4j/java_gateway.py:1321\u001B[0m, in \u001B[0;36mJavaMember.__call__\u001B[0;34m(self, *args)\u001B[0m\n",
       "\u001B[1;32m   1315\u001B[0m command \u001B[38;5;241m=\u001B[39m proto\u001B[38;5;241m.\u001B[39mCALL_COMMAND_NAME \u001B[38;5;241m+\u001B[39m\\\n",
       "\u001B[1;32m   1316\u001B[0m     \u001B[38;5;28mself\u001B[39m\u001B[38;5;241m.\u001B[39mcommand_header \u001B[38;5;241m+\u001B[39m\\\n",
       "\u001B[1;32m   1317\u001B[0m     args_command \u001B[38;5;241m+\u001B[39m\\\n",
       "\u001B[1;32m   1318\u001B[0m     proto\u001B[38;5;241m.\u001B[39mEND_COMMAND_PART\n",
       "\u001B[1;32m   1320\u001B[0m answer \u001B[38;5;241m=\u001B[39m \u001B[38;5;28mself\u001B[39m\u001B[38;5;241m.\u001B[39mgateway_client\u001B[38;5;241m.\u001B[39msend_command(command)\n",
       "\u001B[0;32m-> 1321\u001B[0m return_value \u001B[38;5;241m=\u001B[39m \u001B[43mget_return_value\u001B[49m\u001B[43m(\u001B[49m\n",
       "\u001B[1;32m   1322\u001B[0m \u001B[43m    \u001B[49m\u001B[43manswer\u001B[49m\u001B[43m,\u001B[49m\u001B[43m \u001B[49m\u001B[38;5;28;43mself\u001B[39;49m\u001B[38;5;241;43m.\u001B[39;49m\u001B[43mgateway_client\u001B[49m\u001B[43m,\u001B[49m\u001B[43m \u001B[49m\u001B[38;5;28;43mself\u001B[39;49m\u001B[38;5;241;43m.\u001B[39;49m\u001B[43mtarget_id\u001B[49m\u001B[43m,\u001B[49m\u001B[43m \u001B[49m\u001B[38;5;28;43mself\u001B[39;49m\u001B[38;5;241;43m.\u001B[39;49m\u001B[43mname\u001B[49m\u001B[43m)\u001B[49m\n",
       "\u001B[1;32m   1324\u001B[0m \u001B[38;5;28;01mfor\u001B[39;00m temp_arg \u001B[38;5;129;01min\u001B[39;00m temp_args:\n",
       "\u001B[1;32m   1325\u001B[0m     temp_arg\u001B[38;5;241m.\u001B[39m_detach()\n",
       "\n",
       "File \u001B[0;32m/databricks/spark/python/pyspark/errors/exceptions.py:234\u001B[0m, in \u001B[0;36mcapture_sql_exception.<locals>.deco\u001B[0;34m(*a, **kw)\u001B[0m\n",
       "\u001B[1;32m    230\u001B[0m converted \u001B[38;5;241m=\u001B[39m convert_exception(e\u001B[38;5;241m.\u001B[39mjava_exception)\n",
       "\u001B[1;32m    231\u001B[0m \u001B[38;5;28;01mif\u001B[39;00m \u001B[38;5;129;01mnot\u001B[39;00m \u001B[38;5;28misinstance\u001B[39m(converted, UnknownException):\n",
       "\u001B[1;32m    232\u001B[0m     \u001B[38;5;66;03m# Hide where the exception came from that shows a non-Pythonic\u001B[39;00m\n",
       "\u001B[1;32m    233\u001B[0m     \u001B[38;5;66;03m# JVM exception message.\u001B[39;00m\n",
       "\u001B[0;32m--> 234\u001B[0m     \u001B[38;5;28;01mraise\u001B[39;00m converted \u001B[38;5;28;01mfrom\u001B[39;00m \u001B[38;5;28mNone\u001B[39m\n",
       "\u001B[1;32m    235\u001B[0m \u001B[38;5;28;01melse\u001B[39;00m:\n",
       "\u001B[1;32m    236\u001B[0m     \u001B[38;5;28;01mraise\u001B[39;00m\n",
       "\n",
       "\u001B[0;31mAnalysisException\u001B[0m: [SCHEMA_NOT_FOUND] The schema `Db_Ocorrencia` cannot be found. Verify the spelling and correctness of the schema and catalog.\n",
       "If you did not qualify the name with a catalog, verify the current_schema() output, or qualify the name with the correct catalog.\n",
       "To tolerate the error on drop use DROP SCHEMA IF EXISTS."
      ]
     },
     "metadata": {
      "application/vnd.databricks.v1+output": {
       "arguments": {},
       "data": "\u001B[0;31m---------------------------------------------------------------------------\u001B[0m\n\u001B[0;31mAnalysisException\u001B[0m                         Traceback (most recent call last)\nFile \u001B[0;32m<command-2543913894165253>:7\u001B[0m\n\u001B[1;32m      5\u001B[0m     display(df)\n\u001B[1;32m      6\u001B[0m     \u001B[38;5;28;01mreturn\u001B[39;00m df\n\u001B[0;32m----> 7\u001B[0m   _sqldf \u001B[38;5;241m=\u001B[39m \u001B[43m____databricks_percent_sql\u001B[49m\u001B[43m(\u001B[49m\u001B[43m)\u001B[49m\n\u001B[1;32m      8\u001B[0m \u001B[38;5;28;01mfinally\u001B[39;00m:\n\u001B[1;32m      9\u001B[0m   \u001B[38;5;28;01mdel\u001B[39;00m ____databricks_percent_sql\n\nFile \u001B[0;32m<command-2543913894165253>:4\u001B[0m, in \u001B[0;36m____databricks_percent_sql\u001B[0;34m()\u001B[0m\n\u001B[1;32m      2\u001B[0m \u001B[38;5;28;01mdef\u001B[39;00m \u001B[38;5;21m____databricks_percent_sql\u001B[39m():\n\u001B[1;32m      3\u001B[0m   \u001B[38;5;28;01mimport\u001B[39;00m \u001B[38;5;21;01mbase64\u001B[39;00m\n\u001B[0;32m----> 4\u001B[0m   df \u001B[38;5;241m=\u001B[39m \u001B[43mspark\u001B[49m\u001B[38;5;241;43m.\u001B[39;49m\u001B[43msql\u001B[49m\u001B[43m(\u001B[49m\u001B[43mbase64\u001B[49m\u001B[38;5;241;43m.\u001B[39;49m\u001B[43mstandard_b64decode\u001B[49m\u001B[43m(\u001B[49m\u001B[38;5;124;43m\"\u001B[39;49m\u001B[38;5;124;43mRFJPUCBEQVRBQkFTRSBEYl9PY29ycmVuY2lhIC0tQ0FTQ0FERTs=\u001B[39;49m\u001B[38;5;124;43m\"\u001B[39;49m\u001B[43m)\u001B[49m\u001B[38;5;241;43m.\u001B[39;49m\u001B[43mdecode\u001B[49m\u001B[43m(\u001B[49m\u001B[43m)\u001B[49m\u001B[43m)\u001B[49m\n\u001B[1;32m      5\u001B[0m   display(df)\n\u001B[1;32m      6\u001B[0m   \u001B[38;5;28;01mreturn\u001B[39;00m df\n\nFile \u001B[0;32m/databricks/spark/python/pyspark/instrumentation_utils.py:48\u001B[0m, in \u001B[0;36m_wrap_function.<locals>.wrapper\u001B[0;34m(*args, **kwargs)\u001B[0m\n\u001B[1;32m     46\u001B[0m start \u001B[38;5;241m=\u001B[39m time\u001B[38;5;241m.\u001B[39mperf_counter()\n\u001B[1;32m     47\u001B[0m \u001B[38;5;28;01mtry\u001B[39;00m:\n\u001B[0;32m---> 48\u001B[0m     res \u001B[38;5;241m=\u001B[39m \u001B[43mfunc\u001B[49m\u001B[43m(\u001B[49m\u001B[38;5;241;43m*\u001B[39;49m\u001B[43margs\u001B[49m\u001B[43m,\u001B[49m\u001B[43m \u001B[49m\u001B[38;5;241;43m*\u001B[39;49m\u001B[38;5;241;43m*\u001B[39;49m\u001B[43mkwargs\u001B[49m\u001B[43m)\u001B[49m\n\u001B[1;32m     49\u001B[0m     logger\u001B[38;5;241m.\u001B[39mlog_success(\n\u001B[1;32m     50\u001B[0m         module_name, class_name, function_name, time\u001B[38;5;241m.\u001B[39mperf_counter() \u001B[38;5;241m-\u001B[39m start, signature\n\u001B[1;32m     51\u001B[0m     )\n\u001B[1;32m     52\u001B[0m     \u001B[38;5;28;01mreturn\u001B[39;00m res\n\nFile \u001B[0;32m/databricks/spark/python/pyspark/sql/session.py:1387\u001B[0m, in \u001B[0;36mSparkSession.sql\u001B[0;34m(self, sqlQuery, args, **kwargs)\u001B[0m\n\u001B[1;32m   1385\u001B[0m \u001B[38;5;28;01mtry\u001B[39;00m:\n\u001B[1;32m   1386\u001B[0m     litArgs \u001B[38;5;241m=\u001B[39m {k: _to_java_column(lit(v)) \u001B[38;5;28;01mfor\u001B[39;00m k, v \u001B[38;5;129;01min\u001B[39;00m (args \u001B[38;5;129;01mor\u001B[39;00m {})\u001B[38;5;241m.\u001B[39mitems()}\n\u001B[0;32m-> 1387\u001B[0m     \u001B[38;5;28;01mreturn\u001B[39;00m DataFrame(\u001B[38;5;28;43mself\u001B[39;49m\u001B[38;5;241;43m.\u001B[39;49m\u001B[43m_jsparkSession\u001B[49m\u001B[38;5;241;43m.\u001B[39;49m\u001B[43msql\u001B[49m\u001B[43m(\u001B[49m\u001B[43msqlQuery\u001B[49m\u001B[43m,\u001B[49m\u001B[43m \u001B[49m\u001B[43mlitArgs\u001B[49m\u001B[43m)\u001B[49m, \u001B[38;5;28mself\u001B[39m)\n\u001B[1;32m   1388\u001B[0m \u001B[38;5;28;01mfinally\u001B[39;00m:\n\u001B[1;32m   1389\u001B[0m     \u001B[38;5;28;01mif\u001B[39;00m \u001B[38;5;28mlen\u001B[39m(kwargs) \u001B[38;5;241m>\u001B[39m \u001B[38;5;241m0\u001B[39m:\n\nFile \u001B[0;32m/databricks/spark/python/lib/py4j-0.10.9.5-src.zip/py4j/java_gateway.py:1321\u001B[0m, in \u001B[0;36mJavaMember.__call__\u001B[0;34m(self, *args)\u001B[0m\n\u001B[1;32m   1315\u001B[0m command \u001B[38;5;241m=\u001B[39m proto\u001B[38;5;241m.\u001B[39mCALL_COMMAND_NAME \u001B[38;5;241m+\u001B[39m\\\n\u001B[1;32m   1316\u001B[0m     \u001B[38;5;28mself\u001B[39m\u001B[38;5;241m.\u001B[39mcommand_header \u001B[38;5;241m+\u001B[39m\\\n\u001B[1;32m   1317\u001B[0m     args_command \u001B[38;5;241m+\u001B[39m\\\n\u001B[1;32m   1318\u001B[0m     proto\u001B[38;5;241m.\u001B[39mEND_COMMAND_PART\n\u001B[1;32m   1320\u001B[0m answer \u001B[38;5;241m=\u001B[39m \u001B[38;5;28mself\u001B[39m\u001B[38;5;241m.\u001B[39mgateway_client\u001B[38;5;241m.\u001B[39msend_command(command)\n\u001B[0;32m-> 1321\u001B[0m return_value \u001B[38;5;241m=\u001B[39m \u001B[43mget_return_value\u001B[49m\u001B[43m(\u001B[49m\n\u001B[1;32m   1322\u001B[0m \u001B[43m    \u001B[49m\u001B[43manswer\u001B[49m\u001B[43m,\u001B[49m\u001B[43m \u001B[49m\u001B[38;5;28;43mself\u001B[39;49m\u001B[38;5;241;43m.\u001B[39;49m\u001B[43mgateway_client\u001B[49m\u001B[43m,\u001B[49m\u001B[43m \u001B[49m\u001B[38;5;28;43mself\u001B[39;49m\u001B[38;5;241;43m.\u001B[39;49m\u001B[43mtarget_id\u001B[49m\u001B[43m,\u001B[49m\u001B[43m \u001B[49m\u001B[38;5;28;43mself\u001B[39;49m\u001B[38;5;241;43m.\u001B[39;49m\u001B[43mname\u001B[49m\u001B[43m)\u001B[49m\n\u001B[1;32m   1324\u001B[0m \u001B[38;5;28;01mfor\u001B[39;00m temp_arg \u001B[38;5;129;01min\u001B[39;00m temp_args:\n\u001B[1;32m   1325\u001B[0m     temp_arg\u001B[38;5;241m.\u001B[39m_detach()\n\nFile \u001B[0;32m/databricks/spark/python/pyspark/errors/exceptions.py:234\u001B[0m, in \u001B[0;36mcapture_sql_exception.<locals>.deco\u001B[0;34m(*a, **kw)\u001B[0m\n\u001B[1;32m    230\u001B[0m converted \u001B[38;5;241m=\u001B[39m convert_exception(e\u001B[38;5;241m.\u001B[39mjava_exception)\n\u001B[1;32m    231\u001B[0m \u001B[38;5;28;01mif\u001B[39;00m \u001B[38;5;129;01mnot\u001B[39;00m \u001B[38;5;28misinstance\u001B[39m(converted, UnknownException):\n\u001B[1;32m    232\u001B[0m     \u001B[38;5;66;03m# Hide where the exception came from that shows a non-Pythonic\u001B[39;00m\n\u001B[1;32m    233\u001B[0m     \u001B[38;5;66;03m# JVM exception message.\u001B[39;00m\n\u001B[0;32m--> 234\u001B[0m     \u001B[38;5;28;01mraise\u001B[39;00m converted \u001B[38;5;28;01mfrom\u001B[39;00m \u001B[38;5;28mNone\u001B[39m\n\u001B[1;32m    235\u001B[0m \u001B[38;5;28;01melse\u001B[39;00m:\n\u001B[1;32m    236\u001B[0m     \u001B[38;5;28;01mraise\u001B[39;00m\n\n\u001B[0;31mAnalysisException\u001B[0m: [SCHEMA_NOT_FOUND] The schema `Db_Ocorrencia` cannot be found. Verify the spelling and correctness of the schema and catalog.\nIf you did not qualify the name with a catalog, verify the current_schema() output, or qualify the name with the correct catalog.\nTo tolerate the error on drop use DROP SCHEMA IF EXISTS.",
       "errorSummary": "<span class='ansi-red-fg'>AnalysisException</span>: [SCHEMA_NOT_FOUND] The schema `Db_Ocorrencia` cannot be found. Verify the spelling and correctness of the schema and catalog.\nIf you did not qualify the name with a catalog, verify the current_schema() output, or qualify the name with the correct catalog.\nTo tolerate the error on drop use DROP SCHEMA IF EXISTS.",
       "errorTraceType": "ansi",
       "metadata": {},
       "type": "ipynbError"
      }
     },
     "output_type": "display_data"
    }
   ],
   "source": [
    "%sql DROP DATABASE Db_Ocorrencia CASCADE;\n"
   ]
  },
  {
   "cell_type": "code",
   "execution_count": 0,
   "metadata": {
    "application/vnd.databricks.v1+cell": {
     "cellMetadata": {
      "byteLimit": 2048000,
      "implicitDf": true,
      "rowLimit": 10000
     },
     "collapsed": true,
     "inputWidgets": {},
     "nuid": "9c99d31b-4460-4d22-824e-8e5b3f89acaa",
     "showTitle": true,
     "tableResultSettingsMap": {},
     "title": "Criando o database"
    }
   },
   "outputs": [
    {
     "output_type": "display_data",
     "data": {
      "text/html": [
       "<style scoped>\n",
       "  .table-result-container {\n",
       "    max-height: 300px;\n",
       "    overflow: auto;\n",
       "  }\n",
       "  table, th, td {\n",
       "    border: 1px solid black;\n",
       "    border-collapse: collapse;\n",
       "  }\n",
       "  th, td {\n",
       "    padding: 5px;\n",
       "  }\n",
       "  th {\n",
       "    text-align: left;\n",
       "  }\n",
       "</style><div class='table-result-container'><table class='table-result'><thead style='background-color: white'><tr></tr></thead><tbody></tbody></table></div>"
      ]
     },
     "metadata": {
      "application/vnd.databricks.v1+output": {
       "addedWidgets": {},
       "aggData": [],
       "aggError": "",
       "aggOverflow": false,
       "aggSchema": [],
       "aggSeriesLimitReached": false,
       "aggType": "",
       "arguments": {},
       "columnCustomDisplayInfos": {},
       "data": [],
       "datasetInfos": [],
       "dbfsResultPath": null,
       "isJsonSchema": true,
       "metadata": {},
       "overflow": false,
       "plotOptions": {
        "customPlotOptions": {},
        "displayType": "table",
        "pivotAggregation": null,
        "pivotColumns": null,
        "xColumns": null,
        "yColumns": null
       },
       "removedWidgets": [],
       "schema": [],
       "type": "table"
      }
     },
     "output_type": "display_data"
    }
   ],
   "source": [
    "%sql CREATE DATABASE Db_Ocorrencia;"
   ]
  },
  {
   "cell_type": "code",
   "execution_count": 0,
   "metadata": {
    "application/vnd.databricks.v1+cell": {
     "cellMetadata": {
      "byteLimit": 2048000,
      "rowLimit": 10000
     },
     "inputWidgets": {},
     "nuid": "63e037ef-131e-4b38-9295-d92e7124d29a",
     "showTitle": true,
     "tableResultSettingsMap": {},
     "title": "Criando as Tabelas"
    }
   },
   "outputs": [],
   "source": [
    "df_bd_ocorrencias.write.mode(\"overwrite\").saveAsTable(\"Db_Ocorrencia.ocorrencias\")\n",
    "\n",
    "df_bd_municipios.write.mode(\"overwrite\").saveAsTable(\"Db_Ocorrencia.municipios\")"
   ]
  },
  {
   "cell_type": "code",
   "execution_count": 0,
   "metadata": {
    "application/vnd.databricks.v1+cell": {
     "cellMetadata": {
      "byteLimit": 2048000,
      "implicitDf": true,
      "rowLimit": 10000
     },
     "inputWidgets": {},
     "nuid": "c72eb577-58f9-416a-a75c-077c3714e6b4",
     "showTitle": true,
     "tableResultSettingsMap": {},
     "title": "Verificando a tabela \"ocorrencias\" criada"
    }
   },
   "outputs": [
    {
     "output_type": "display_data",
     "data": {
      "text/html": [
       "<style scoped>\n",
       "  .table-result-container {\n",
       "    max-height: 300px;\n",
       "    overflow: auto;\n",
       "  }\n",
       "  table, th, td {\n",
       "    border: 1px solid black;\n",
       "    border-collapse: collapse;\n",
       "  }\n",
       "  th, td {\n",
       "    padding: 5px;\n",
       "  }\n",
       "  th {\n",
       "    text-align: left;\n",
       "  }\n",
       "</style><div class='table-result-container'><table class='table-result'><thead style='background-color: white'><tr><th>ano</th><th>mes</th><th>id_municipio</th><th>regiao_ssp</th><th>homicidio_doloso</th><th>numero_de_vitimas_em_homicidio_doloso</th><th>homicidio_doloso_por_acidente_de_transito</th><th>numero_de_vitimas_em_homicidio_doloso_por_acidente_de_transito</th><th>homicidio_culposo_por_acidente_de_transito</th><th>homicidio_culposo_outros</th><th>tentativa_de_homicidio</th><th>lesao_corporal_seguida_de_morte</th><th>lesao_corporal_dolosa</th><th>lesao_corporal_culposa_por_acidente_de_transito</th><th>lesao_corporal_culposa_outras</th><th>latrocinio</th><th>numero_de_vitimas_em_latrocinio</th><th>total_de_estupro</th><th>estupro</th><th>estupro_de_vulneravel</th><th>total_de_roubo_outros</th><th>roubo_outros</th><th>roubo_de_veiculo</th><th>roubo_a_banco</th><th>roubo_de_carga</th><th>furto_outros</th><th>furto_de_veiculo</th></tr></thead><tbody><tr><td>2020</td><td>1</td><td>3502754</td><td>Sorocaba</td><td>0</td><td>0</td><td>0</td><td>0</td><td>0</td><td>0</td><td>0</td><td>0</td><td>2</td><td>0</td><td>0</td><td>0</td><td>0</td><td>3</td><td>1</td><td>2</td><td>4</td><td>3</td><td>0</td><td>0</td><td>1</td><td>15</td><td>1</td></tr><tr><td>2020</td><td>2</td><td>3502754</td><td>Sorocaba</td><td>0</td><td>0</td><td>0</td><td>0</td><td>0</td><td>0</td><td>0</td><td>0</td><td>4</td><td>0</td><td>0</td><td>0</td><td>0</td><td>0</td><td>0</td><td>0</td><td>2</td><td>0</td><td>1</td><td>0</td><td>2</td><td>10</td><td>1</td></tr><tr><td>2020</td><td>3</td><td>3502754</td><td>Sorocaba</td><td>0</td><td>0</td><td>0</td><td>0</td><td>0</td><td>0</td><td>0</td><td>0</td><td>3</td><td>0</td><td>0</td><td>0</td><td>0</td><td>0</td><td>0</td><td>0</td><td>5</td><td>2</td><td>3</td><td>0</td><td>3</td><td>8</td><td>0</td></tr><tr><td>2020</td><td>4</td><td>3502754</td><td>Sorocaba</td><td>0</td><td>0</td><td>0</td><td>0</td><td>0</td><td>0</td><td>0</td><td>0</td><td>4</td><td>0</td><td>0</td><td>0</td><td>0</td><td>0</td><td>0</td><td>0</td><td>2</td><td>2</td><td>1</td><td>0</td><td>0</td><td>12</td><td>5</td></tr><tr><td>2020</td><td>5</td><td>3502754</td><td>Sorocaba</td><td>0</td><td>0</td><td>0</td><td>0</td><td>1</td><td>0</td><td>2</td><td>0</td><td>2</td><td>0</td><td>0</td><td>0</td><td>0</td><td>1</td><td>1</td><td>0</td><td>2</td><td>1</td><td>1</td><td>0</td><td>1</td><td>7</td><td>1</td></tr></tbody></table></div>"
      ]
     },
     "metadata": {
      "application/vnd.databricks.v1+output": {
       "addedWidgets": {},
       "aggData": [],
       "aggError": "",
       "aggOverflow": false,
       "aggSchema": [],
       "aggSeriesLimitReached": false,
       "aggType": "",
       "arguments": {},
       "columnCustomDisplayInfos": {},
       "data": [
        [
         2020,
         "1",
         "3502754",
         "Sorocaba",
         0,
         0,
         0,
         0,
         0,
         0,
         0,
         0,
         2,
         0,
         0,
         0,
         0,
         3,
         1,
         2,
         4,
         3,
         0,
         0,
         1,
         15,
         1
        ],
        [
         2020,
         "2",
         "3502754",
         "Sorocaba",
         0,
         0,
         0,
         0,
         0,
         0,
         0,
         0,
         4,
         0,
         0,
         0,
         0,
         0,
         0,
         0,
         2,
         0,
         1,
         0,
         2,
         10,
         1
        ],
        [
         2020,
         "3",
         "3502754",
         "Sorocaba",
         0,
         0,
         0,
         0,
         0,
         0,
         0,
         0,
         3,
         0,
         0,
         0,
         0,
         0,
         0,
         0,
         5,
         2,
         3,
         0,
         3,
         8,
         0
        ],
        [
         2020,
         "4",
         "3502754",
         "Sorocaba",
         0,
         0,
         0,
         0,
         0,
         0,
         0,
         0,
         4,
         0,
         0,
         0,
         0,
         0,
         0,
         0,
         2,
         2,
         1,
         0,
         0,
         12,
         5
        ],
        [
         2020,
         "5",
         "3502754",
         "Sorocaba",
         0,
         0,
         0,
         0,
         1,
         0,
         2,
         0,
         2,
         0,
         0,
         0,
         0,
         1,
         1,
         0,
         2,
         1,
         1,
         0,
         1,
         7,
         1
        ]
       ],
       "datasetInfos": [],
       "dbfsResultPath": null,
       "isJsonSchema": true,
       "metadata": {},
       "overflow": false,
       "plotOptions": {
        "customPlotOptions": {},
        "displayType": "table",
        "pivotAggregation": null,
        "pivotColumns": null,
        "xColumns": null,
        "yColumns": null
       },
       "removedWidgets": [],
       "schema": [
        {
         "metadata": "{}",
         "name": "ano",
         "type": "\"integer\""
        },
        {
         "metadata": "{}",
         "name": "mes",
         "type": "\"string\""
        },
        {
         "metadata": "{}",
         "name": "id_municipio",
         "type": "\"string\""
        },
        {
         "metadata": "{}",
         "name": "regiao_ssp",
         "type": "\"string\""
        },
        {
         "metadata": "{}",
         "name": "homicidio_doloso",
         "type": "\"integer\""
        },
        {
         "metadata": "{}",
         "name": "numero_de_vitimas_em_homicidio_doloso",
         "type": "\"integer\""
        },
        {
         "metadata": "{}",
         "name": "homicidio_doloso_por_acidente_de_transito",
         "type": "\"integer\""
        },
        {
         "metadata": "{}",
         "name": "numero_de_vitimas_em_homicidio_doloso_por_acidente_de_transito",
         "type": "\"integer\""
        },
        {
         "metadata": "{}",
         "name": "homicidio_culposo_por_acidente_de_transito",
         "type": "\"integer\""
        },
        {
         "metadata": "{}",
         "name": "homicidio_culposo_outros",
         "type": "\"integer\""
        },
        {
         "metadata": "{}",
         "name": "tentativa_de_homicidio",
         "type": "\"integer\""
        },
        {
         "metadata": "{}",
         "name": "lesao_corporal_seguida_de_morte",
         "type": "\"integer\""
        },
        {
         "metadata": "{}",
         "name": "lesao_corporal_dolosa",
         "type": "\"integer\""
        },
        {
         "metadata": "{}",
         "name": "lesao_corporal_culposa_por_acidente_de_transito",
         "type": "\"integer\""
        },
        {
         "metadata": "{}",
         "name": "lesao_corporal_culposa_outras",
         "type": "\"integer\""
        },
        {
         "metadata": "{}",
         "name": "latrocinio",
         "type": "\"integer\""
        },
        {
         "metadata": "{}",
         "name": "numero_de_vitimas_em_latrocinio",
         "type": "\"integer\""
        },
        {
         "metadata": "{}",
         "name": "total_de_estupro",
         "type": "\"integer\""
        },
        {
         "metadata": "{}",
         "name": "estupro",
         "type": "\"integer\""
        },
        {
         "metadata": "{}",
         "name": "estupro_de_vulneravel",
         "type": "\"integer\""
        },
        {
         "metadata": "{}",
         "name": "total_de_roubo_outros",
         "type": "\"integer\""
        },
        {
         "metadata": "{}",
         "name": "roubo_outros",
         "type": "\"integer\""
        },
        {
         "metadata": "{}",
         "name": "roubo_de_veiculo",
         "type": "\"integer\""
        },
        {
         "metadata": "{}",
         "name": "roubo_a_banco",
         "type": "\"integer\""
        },
        {
         "metadata": "{}",
         "name": "roubo_de_carga",
         "type": "\"integer\""
        },
        {
         "metadata": "{}",
         "name": "furto_outros",
         "type": "\"integer\""
        },
        {
         "metadata": "{}",
         "name": "furto_de_veiculo",
         "type": "\"integer\""
        }
       ],
       "type": "table"
      }
     },
     "output_type": "display_data"
    }
   ],
   "source": [
    "%sql SELECT * FROM Db_Ocorrencia.ocorrencias LIMIT 5"
   ]
  },
  {
   "cell_type": "code",
   "execution_count": 0,
   "metadata": {
    "application/vnd.databricks.v1+cell": {
     "cellMetadata": {
      "byteLimit": 2048000,
      "implicitDf": true,
      "rowLimit": 10000
     },
     "inputWidgets": {},
     "nuid": "0f2f3c17-eef4-4ec6-a8f0-b46da888d7e7",
     "showTitle": true,
     "tableResultSettingsMap": {},
     "title": "Verificando a tabela \"municipios\" criada"
    }
   },
   "outputs": [
    {
     "output_type": "display_data",
     "data": {
      "text/html": [
       "<style scoped>\n",
       "  .table-result-container {\n",
       "    max-height: 300px;\n",
       "    overflow: auto;\n",
       "  }\n",
       "  table, th, td {\n",
       "    border: 1px solid black;\n",
       "    border-collapse: collapse;\n",
       "  }\n",
       "  th, td {\n",
       "    padding: 5px;\n",
       "  }\n",
       "  th {\n",
       "    text-align: left;\n",
       "  }\n",
       "</style><div class='table-result-container'><table class='table-result'><thead style='background-color: white'><tr><th>id_municipio</th><th>nome</th></tr></thead><tbody><tr><td>1100338</td><td>Nova Mamoré</td></tr><tr><td>1100205</td><td>Porto Velho</td></tr><tr><td>1101104</td><td>Itapuã do Oeste</td></tr><tr><td>1100809</td><td>Candeias do Jamari</td></tr><tr><td>1100940</td><td>Cujubim</td></tr></tbody></table></div>"
      ]
     },
     "metadata": {
      "application/vnd.databricks.v1+output": {
       "addedWidgets": {},
       "aggData": [],
       "aggError": "",
       "aggOverflow": false,
       "aggSchema": [],
       "aggSeriesLimitReached": false,
       "aggType": "",
       "arguments": {},
       "columnCustomDisplayInfos": {},
       "data": [
        [
         "1100338",
         "Nova Mamoré"
        ],
        [
         "1100205",
         "Porto Velho"
        ],
        [
         "1101104",
         "Itapuã do Oeste"
        ],
        [
         "1100809",
         "Candeias do Jamari"
        ],
        [
         "1100940",
         "Cujubim"
        ]
       ],
       "datasetInfos": [],
       "dbfsResultPath": null,
       "isJsonSchema": true,
       "metadata": {},
       "overflow": false,
       "plotOptions": {
        "customPlotOptions": {},
        "displayType": "table",
        "pivotAggregation": null,
        "pivotColumns": null,
        "xColumns": null,
        "yColumns": null
       },
       "removedWidgets": [],
       "schema": [
        {
         "metadata": "{}",
         "name": "id_municipio",
         "type": "\"string\""
        },
        {
         "metadata": "{}",
         "name": "nome",
         "type": "\"string\""
        }
       ],
       "type": "table"
      }
     },
     "output_type": "display_data"
    }
   ],
   "source": [
    "%sql SELECT * FROM Db_Ocorrencia.municipios LIMIT 5"
   ]
  },
  {
   "cell_type": "markdown",
   "metadata": {
    "application/vnd.databricks.v1+cell": {
     "cellMetadata": {},
     "inputWidgets": {},
     "nuid": "2cd5de74-2e61-4b17-810d-437074257d0a",
     "showTitle": false,
     "tableResultSettingsMap": {},
     "title": ""
    }
   },
   "source": [
    "# 4. Junção de tabelas para criação de tabela flat final"
   ]
  },
  {
   "cell_type": "code",
   "execution_count": 0,
   "metadata": {
    "application/vnd.databricks.v1+cell": {
     "cellMetadata": {
      "byteLimit": 2048000,
      "implicitDf": true,
      "rowLimit": 10000
     },
     "inputWidgets": {},
     "nuid": "e46b02d8-ce9e-4df7-9e61-0388f8f0c777",
     "showTitle": true,
     "tableResultSettingsMap": {},
     "title": "Validando quantidade de registros únicos de municípios"
    }
   },
   "outputs": [
    {
     "output_type": "display_data",
     "data": {
      "text/html": [
       "<style scoped>\n",
       "  .table-result-container {\n",
       "    max-height: 300px;\n",
       "    overflow: auto;\n",
       "  }\n",
       "  table, th, td {\n",
       "    border: 1px solid black;\n",
       "    border-collapse: collapse;\n",
       "  }\n",
       "  th, td {\n",
       "    padding: 5px;\n",
       "  }\n",
       "  th {\n",
       "    text-align: left;\n",
       "  }\n",
       "</style><div class='table-result-container'><table class='table-result'><thead style='background-color: white'><tr><th>Id_municipio</th><th>nome</th><th>contagem</th></tr></thead><tbody></tbody></table></div>"
      ]
     },
     "metadata": {
      "application/vnd.databricks.v1+output": {
       "addedWidgets": {},
       "aggData": [],
       "aggError": "",
       "aggOverflow": false,
       "aggSchema": [],
       "aggSeriesLimitReached": false,
       "aggType": "",
       "arguments": {},
       "columnCustomDisplayInfos": {},
       "data": [],
       "datasetInfos": [],
       "dbfsResultPath": null,
       "isJsonSchema": true,
       "metadata": {},
       "overflow": false,
       "plotOptions": {
        "customPlotOptions": {},
        "displayType": "table",
        "pivotAggregation": null,
        "pivotColumns": null,
        "xColumns": null,
        "yColumns": null
       },
       "removedWidgets": [],
       "schema": [
        {
         "metadata": "{}",
         "name": "Id_municipio",
         "type": "\"string\""
        },
        {
         "metadata": "{}",
         "name": "nome",
         "type": "\"string\""
        },
        {
         "metadata": "{}",
         "name": "contagem",
         "type": "\"long\""
        }
       ],
       "type": "table"
      }
     },
     "output_type": "display_data"
    }
   ],
   "source": [
    "%sql\n",
    "SELECT\n",
    "Id_municipio,\n",
    "nome,\n",
    "COUNT(*) as contagem\n",
    "FROM Db_Ocorrencia.municipios\n",
    "GROUP BY id_municipio, nome\n",
    "HAVING COUNT(*) > 1\n",
    "ORDER BY contagem DESC"
   ]
  },
  {
   "cell_type": "code",
   "execution_count": 0,
   "metadata": {
    "application/vnd.databricks.v1+cell": {
     "cellMetadata": {
      "byteLimit": 2048000,
      "implicitDf": true,
      "rowLimit": 10000
     },
     "inputWidgets": {},
     "nuid": "c790b2f6-657c-4eaf-b98d-b15645dfece2",
     "showTitle": true,
     "tableResultSettingsMap": {},
     "title": "Junção das tabelas Ocorrência e Municípios, criando tabela Geral"
    }
   },
   "outputs": [
    {
     "output_type": "display_data",
     "data": {
      "text/html": [
       "<style scoped>\n",
       "  .table-result-container {\n",
       "    max-height: 300px;\n",
       "    overflow: auto;\n",
       "  }\n",
       "  table, th, td {\n",
       "    border: 1px solid black;\n",
       "    border-collapse: collapse;\n",
       "  }\n",
       "  th, td {\n",
       "    padding: 5px;\n",
       "  }\n",
       "  th {\n",
       "    text-align: left;\n",
       "  }\n",
       "</style><div class='table-result-container'><table class='table-result'><thead style='background-color: white'><tr><th>num_affected_rows</th><th>num_inserted_rows</th></tr></thead><tbody></tbody></table></div>"
      ]
     },
     "metadata": {
      "application/vnd.databricks.v1+output": {
       "addedWidgets": {},
       "aggData": [],
       "aggError": "",
       "aggOverflow": false,
       "aggSchema": [],
       "aggSeriesLimitReached": false,
       "aggType": "",
       "arguments": {},
       "columnCustomDisplayInfos": {},
       "data": [],
       "datasetInfos": [],
       "dbfsResultPath": null,
       "isJsonSchema": true,
       "metadata": {},
       "overflow": false,
       "plotOptions": {
        "customPlotOptions": {},
        "displayType": "table",
        "pivotAggregation": null,
        "pivotColumns": null,
        "xColumns": null,
        "yColumns": null
       },
       "removedWidgets": [],
       "schema": [
        {
         "metadata": "{}",
         "name": "num_affected_rows",
         "type": "\"long\""
        },
        {
         "metadata": "{}",
         "name": "num_inserted_rows",
         "type": "\"long\""
        }
       ],
       "type": "table"
      }
     },
     "output_type": "display_data"
    }
   ],
   "source": [
    "%sql CREATE TABLE Db_Ocorrencia.Geral AS \n",
    "SELECT \n",
    "O.* ,\n",
    "M.nome\n",
    "FROM Db_Ocorrencia.ocorrencias AS O\n",
    " \n",
    "LEFT JOIN \n",
    " (SELECT DISTINCT\n",
    " Id_municipio,\n",
    " nome\n",
    " From Db_Ocorrencia.municipios ) AS M\n",
    "ON O.id_municipio = M.id_municipio"
   ]
  },
  {
   "cell_type": "code",
   "execution_count": 0,
   "metadata": {
    "application/vnd.databricks.v1+cell": {
     "cellMetadata": {
      "byteLimit": 2048000,
      "implicitDf": true,
      "rowLimit": 10000
     },
     "inputWidgets": {},
     "nuid": "82b987bc-8d55-471d-95c9-aef4b76a5d39",
     "showTitle": true,
     "tableResultSettingsMap": {},
     "title": "Testando a tabela Geral"
    }
   },
   "outputs": [
    {
     "output_type": "display_data",
     "data": {
      "text/html": [
       "<style scoped>\n",
       "  .table-result-container {\n",
       "    max-height: 300px;\n",
       "    overflow: auto;\n",
       "  }\n",
       "  table, th, td {\n",
       "    border: 1px solid black;\n",
       "    border-collapse: collapse;\n",
       "  }\n",
       "  th, td {\n",
       "    padding: 5px;\n",
       "  }\n",
       "  th {\n",
       "    text-align: left;\n",
       "  }\n",
       "</style><div class='table-result-container'><table class='table-result'><thead style='background-color: white'><tr><th>ano</th><th>mes</th><th>id_municipio</th><th>regiao_ssp</th><th>homicidio_doloso</th><th>numero_de_vitimas_em_homicidio_doloso</th><th>homicidio_doloso_por_acidente_de_transito</th><th>numero_de_vitimas_em_homicidio_doloso_por_acidente_de_transito</th><th>homicidio_culposo_por_acidente_de_transito</th><th>homicidio_culposo_outros</th><th>tentativa_de_homicidio</th><th>lesao_corporal_seguida_de_morte</th><th>lesao_corporal_dolosa</th><th>lesao_corporal_culposa_por_acidente_de_transito</th><th>lesao_corporal_culposa_outras</th><th>latrocinio</th><th>numero_de_vitimas_em_latrocinio</th><th>total_de_estupro</th><th>estupro</th><th>estupro_de_vulneravel</th><th>total_de_roubo_outros</th><th>roubo_outros</th><th>roubo_de_veiculo</th><th>roubo_a_banco</th><th>roubo_de_carga</th><th>furto_outros</th><th>furto_de_veiculo</th><th>nome</th></tr></thead><tbody><tr><td>2020</td><td>1</td><td>3502754</td><td>Sorocaba</td><td>0</td><td>0</td><td>0</td><td>0</td><td>0</td><td>0</td><td>0</td><td>0</td><td>2</td><td>0</td><td>0</td><td>0</td><td>0</td><td>3</td><td>1</td><td>2</td><td>4</td><td>3</td><td>0</td><td>0</td><td>1</td><td>15</td><td>1</td><td>Araçariguama</td></tr><tr><td>2020</td><td>2</td><td>3502754</td><td>Sorocaba</td><td>0</td><td>0</td><td>0</td><td>0</td><td>0</td><td>0</td><td>0</td><td>0</td><td>4</td><td>0</td><td>0</td><td>0</td><td>0</td><td>0</td><td>0</td><td>0</td><td>2</td><td>0</td><td>1</td><td>0</td><td>2</td><td>10</td><td>1</td><td>Araçariguama</td></tr><tr><td>2020</td><td>3</td><td>3502754</td><td>Sorocaba</td><td>0</td><td>0</td><td>0</td><td>0</td><td>0</td><td>0</td><td>0</td><td>0</td><td>3</td><td>0</td><td>0</td><td>0</td><td>0</td><td>0</td><td>0</td><td>0</td><td>5</td><td>2</td><td>3</td><td>0</td><td>3</td><td>8</td><td>0</td><td>Araçariguama</td></tr><tr><td>2020</td><td>4</td><td>3502754</td><td>Sorocaba</td><td>0</td><td>0</td><td>0</td><td>0</td><td>0</td><td>0</td><td>0</td><td>0</td><td>4</td><td>0</td><td>0</td><td>0</td><td>0</td><td>0</td><td>0</td><td>0</td><td>2</td><td>2</td><td>1</td><td>0</td><td>0</td><td>12</td><td>5</td><td>Araçariguama</td></tr><tr><td>2020</td><td>5</td><td>3502754</td><td>Sorocaba</td><td>0</td><td>0</td><td>0</td><td>0</td><td>1</td><td>0</td><td>2</td><td>0</td><td>2</td><td>0</td><td>0</td><td>0</td><td>0</td><td>1</td><td>1</td><td>0</td><td>2</td><td>1</td><td>1</td><td>0</td><td>1</td><td>7</td><td>1</td><td>Araçariguama</td></tr></tbody></table></div>"
      ]
     },
     "metadata": {
      "application/vnd.databricks.v1+output": {
       "addedWidgets": {},
       "aggData": [],
       "aggError": "",
       "aggOverflow": false,
       "aggSchema": [],
       "aggSeriesLimitReached": false,
       "aggType": "",
       "arguments": {},
       "columnCustomDisplayInfos": {},
       "data": [
        [
         2020,
         "1",
         "3502754",
         "Sorocaba",
         0,
         0,
         0,
         0,
         0,
         0,
         0,
         0,
         2,
         0,
         0,
         0,
         0,
         3,
         1,
         2,
         4,
         3,
         0,
         0,
         1,
         15,
         1,
         "Araçariguama"
        ],
        [
         2020,
         "2",
         "3502754",
         "Sorocaba",
         0,
         0,
         0,
         0,
         0,
         0,
         0,
         0,
         4,
         0,
         0,
         0,
         0,
         0,
         0,
         0,
         2,
         0,
         1,
         0,
         2,
         10,
         1,
         "Araçariguama"
        ],
        [
         2020,
         "3",
         "3502754",
         "Sorocaba",
         0,
         0,
         0,
         0,
         0,
         0,
         0,
         0,
         3,
         0,
         0,
         0,
         0,
         0,
         0,
         0,
         5,
         2,
         3,
         0,
         3,
         8,
         0,
         "Araçariguama"
        ],
        [
         2020,
         "4",
         "3502754",
         "Sorocaba",
         0,
         0,
         0,
         0,
         0,
         0,
         0,
         0,
         4,
         0,
         0,
         0,
         0,
         0,
         0,
         0,
         2,
         2,
         1,
         0,
         0,
         12,
         5,
         "Araçariguama"
        ],
        [
         2020,
         "5",
         "3502754",
         "Sorocaba",
         0,
         0,
         0,
         0,
         1,
         0,
         2,
         0,
         2,
         0,
         0,
         0,
         0,
         1,
         1,
         0,
         2,
         1,
         1,
         0,
         1,
         7,
         1,
         "Araçariguama"
        ]
       ],
       "datasetInfos": [],
       "dbfsResultPath": null,
       "isJsonSchema": true,
       "metadata": {},
       "overflow": false,
       "plotOptions": {
        "customPlotOptions": {},
        "displayType": "table",
        "pivotAggregation": null,
        "pivotColumns": null,
        "xColumns": null,
        "yColumns": null
       },
       "removedWidgets": [],
       "schema": [
        {
         "metadata": "{}",
         "name": "ano",
         "type": "\"integer\""
        },
        {
         "metadata": "{}",
         "name": "mes",
         "type": "\"string\""
        },
        {
         "metadata": "{}",
         "name": "id_municipio",
         "type": "\"string\""
        },
        {
         "metadata": "{}",
         "name": "regiao_ssp",
         "type": "\"string\""
        },
        {
         "metadata": "{}",
         "name": "homicidio_doloso",
         "type": "\"integer\""
        },
        {
         "metadata": "{}",
         "name": "numero_de_vitimas_em_homicidio_doloso",
         "type": "\"integer\""
        },
        {
         "metadata": "{}",
         "name": "homicidio_doloso_por_acidente_de_transito",
         "type": "\"integer\""
        },
        {
         "metadata": "{}",
         "name": "numero_de_vitimas_em_homicidio_doloso_por_acidente_de_transito",
         "type": "\"integer\""
        },
        {
         "metadata": "{}",
         "name": "homicidio_culposo_por_acidente_de_transito",
         "type": "\"integer\""
        },
        {
         "metadata": "{}",
         "name": "homicidio_culposo_outros",
         "type": "\"integer\""
        },
        {
         "metadata": "{}",
         "name": "tentativa_de_homicidio",
         "type": "\"integer\""
        },
        {
         "metadata": "{}",
         "name": "lesao_corporal_seguida_de_morte",
         "type": "\"integer\""
        },
        {
         "metadata": "{}",
         "name": "lesao_corporal_dolosa",
         "type": "\"integer\""
        },
        {
         "metadata": "{}",
         "name": "lesao_corporal_culposa_por_acidente_de_transito",
         "type": "\"integer\""
        },
        {
         "metadata": "{}",
         "name": "lesao_corporal_culposa_outras",
         "type": "\"integer\""
        },
        {
         "metadata": "{}",
         "name": "latrocinio",
         "type": "\"integer\""
        },
        {
         "metadata": "{}",
         "name": "numero_de_vitimas_em_latrocinio",
         "type": "\"integer\""
        },
        {
         "metadata": "{}",
         "name": "total_de_estupro",
         "type": "\"integer\""
        },
        {
         "metadata": "{}",
         "name": "estupro",
         "type": "\"integer\""
        },
        {
         "metadata": "{}",
         "name": "estupro_de_vulneravel",
         "type": "\"integer\""
        },
        {
         "metadata": "{}",
         "name": "total_de_roubo_outros",
         "type": "\"integer\""
        },
        {
         "metadata": "{}",
         "name": "roubo_outros",
         "type": "\"integer\""
        },
        {
         "metadata": "{}",
         "name": "roubo_de_veiculo",
         "type": "\"integer\""
        },
        {
         "metadata": "{}",
         "name": "roubo_a_banco",
         "type": "\"integer\""
        },
        {
         "metadata": "{}",
         "name": "roubo_de_carga",
         "type": "\"integer\""
        },
        {
         "metadata": "{}",
         "name": "furto_outros",
         "type": "\"integer\""
        },
        {
         "metadata": "{}",
         "name": "furto_de_veiculo",
         "type": "\"integer\""
        },
        {
         "metadata": "{}",
         "name": "nome",
         "type": "\"string\""
        }
       ],
       "type": "table"
      }
     },
     "output_type": "display_data"
    }
   ],
   "source": [
    "%sql\n",
    "SELECT * FROM db_ocorrencia.geral\n",
    "LIMIT 5"
   ]
  },
  {
   "cell_type": "markdown",
   "metadata": {
    "application/vnd.databricks.v1+cell": {
     "cellMetadata": {},
     "inputWidgets": {},
     "nuid": "5cff264f-37d7-4ae3-9cf6-7990f6d249fc",
     "showTitle": false,
     "tableResultSettingsMap": {},
     "title": ""
    }
   },
   "source": [
    "# 5. Análises dos Dados"
   ]
  },
  {
   "cell_type": "code",
   "execution_count": 0,
   "metadata": {
    "application/vnd.databricks.v1+cell": {
     "cellMetadata": {
      "byteLimit": 2048000,
      "implicitDf": true,
      "rowLimit": 10000
     },
     "inputWidgets": {},
     "nuid": "8f8827d9-b929-4692-8db6-8a77309828a9",
     "showTitle": true,
     "tableResultSettingsMap": {},
     "title": "Top 5 anos com mais homicídios"
    }
   },
   "outputs": [
    {
     "output_type": "display_data",
     "data": {
      "text/html": [
       "<style scoped>\n",
       "  .table-result-container {\n",
       "    max-height: 300px;\n",
       "    overflow: auto;\n",
       "  }\n",
       "  table, th, td {\n",
       "    border: 1px solid black;\n",
       "    border-collapse: collapse;\n",
       "  }\n",
       "  th, td {\n",
       "    padding: 5px;\n",
       "  }\n",
       "  th {\n",
       "    text-align: left;\n",
       "  }\n",
       "</style><div class='table-result-container'><table class='table-result'><thead style='background-color: white'><tr><th>Ano</th><th>Hom_Doloso</th><th>Hom_Dol_AT</th><th>Hom_Cul</th><th>Hom_Cul_AT</th><th>Total</th><th>% Perc</th></tr></thead><tbody><tr><td>2017</td><td>3289</td><td>52</td><td>159</td><td>3473</td><td>6973</td><td>23.39</td></tr><tr><td>2018</td><td>2949</td><td>36</td><td>152</td><td>3193</td><td>6330</td><td>21.23</td></tr><tr><td>2019</td><td>2776</td><td>18</td><td>183</td><td>3236</td><td>6213</td><td>20.84</td></tr><tr><td>2020</td><td>2893</td><td>19</td><td>131</td><td>3153</td><td>6196</td><td>20.78</td></tr><tr><td>2021</td><td>1848</td><td>4</td><td>97</td><td>2156</td><td>4105</td><td>13.77</td></tr></tbody></table></div>"
      ]
     },
     "metadata": {
      "application/vnd.databricks.v1+output": {
       "addedWidgets": {},
       "aggData": [],
       "aggError": "",
       "aggOverflow": false,
       "aggSchema": [],
       "aggSeriesLimitReached": false,
       "aggType": "",
       "arguments": {},
       "columnCustomDisplayInfos": {},
       "data": [
        [
         2017,
         3289,
         52,
         159,
         3473,
         6973,
         "23.39"
        ],
        [
         2018,
         2949,
         36,
         152,
         3193,
         6330,
         "21.23"
        ],
        [
         2019,
         2776,
         18,
         183,
         3236,
         6213,
         "20.84"
        ],
        [
         2020,
         2893,
         19,
         131,
         3153,
         6196,
         "20.78"
        ],
        [
         2021,
         1848,
         4,
         97,
         2156,
         4105,
         "13.77"
        ]
       ],
       "datasetInfos": [],
       "dbfsResultPath": null,
       "isJsonSchema": true,
       "metadata": {},
       "overflow": false,
       "plotOptions": {
        "customPlotOptions": {},
        "displayType": "table",
        "pivotAggregation": null,
        "pivotColumns": null,
        "xColumns": null,
        "yColumns": null
       },
       "removedWidgets": [],
       "schema": [
        {
         "metadata": "{}",
         "name": "Ano",
         "type": "\"integer\""
        },
        {
         "metadata": "{}",
         "name": "Hom_Doloso",
         "type": "\"long\""
        },
        {
         "metadata": "{}",
         "name": "Hom_Dol_AT",
         "type": "\"long\""
        },
        {
         "metadata": "{}",
         "name": "Hom_Cul",
         "type": "\"long\""
        },
        {
         "metadata": "{}",
         "name": "Hom_Cul_AT",
         "type": "\"long\""
        },
        {
         "metadata": "{}",
         "name": "Total",
         "type": "\"long\""
        },
        {
         "metadata": "{}",
         "name": "% Perc",
         "type": "\"decimal(27,2)\""
        }
       ],
       "type": "table"
      }
     },
     "output_type": "display_data"
    },
    {
     "output_type": "display_data",
     "data": {
      "text/plain": [
       "Databricks visualization. Run in Databricks to view."
      ]
     },
     "metadata": {
      "application/vnd.databricks.v1.subcommand+json": {
       "baseErrorDetails": null,
       "bindings": {},
       "collapsed": false,
       "command": "%sql WITH q AS (SELECT\nano as Ano,\nSum(homicidio_doloso) as Hom_Doloso,\nSum(homicidio_doloso_por_acidente_de_transito) as Hom_Dol_AT,\nSum(homicidio_culposo_outros) as Hom_Cul,\nSum(homicidio_culposo_por_acidente_de_transito) as Hom_Cul_AT,\nSum(homicidio_doloso) + Sum(homicidio_doloso_por_acidente_de_transito) + sum(homicidio_culposo_outros) + sum(homicidio_culposo_por_acidente_de_transito)  as Total,\n\nRound(((\n  Sum(homicidio_doloso) +\n  Sum(homicidio_doloso_por_acidente_de_transito) + \n  Sum(homicidio_culposo_outros) + \n  Sum(homicidio_culposo_por_acidente_de_transito)) \n  * 100.0 / \n  (SELECT (\n    Sum(homicidio_doloso) + \n    Sum(homicidio_doloso_por_acidente_de_transito) + \n    Sum(homicidio_culposo_outros) + \n    Sum(homicidio_culposo_por_acidente_de_transito)) \n    FROM Db_Ocorrencia.geral)),2) AS `% Perc`\n\nFROM Db_Ocorrencia.geral\nGROUP BY Ano\nORDER BY Total DESC\nLIMIT 5) SELECT `Ano`,SUM(`Total`) `column_6f99065838` FROM q GROUP BY `Ano`",
       "commandTitle": "Visualização 1",
       "commandType": "auto",
       "commandVersion": 0,
       "commentThread": [],
       "commentsVisible": false,
       "contentSha256Hex": null,
       "customPlotOptions": {
        "redashChart": [
         {
          "key": "type",
          "value": "CHART"
         },
         {
          "key": "options",
          "value": {
           "alignYAxesAtZero": true,
           "coefficient": 1,
           "columnConfigurationMap": {
            "x": {
             "column": "Ano",
             "id": "column_6f99065835"
            },
            "y": [
             {
              "column": "Total",
              "id": "column_6f99065838",
              "transform": "SUM"
             },
             {
              "column": "% Perc",
              "id": "column_6f99065843",
              "transform": "SUM"
             }
            ]
           },
           "dateTimeFormat": "DD/MM/YYYY HH:mm",
           "direction": {
            "type": "counterclockwise"
           },
           "error_y": {
            "type": "data",
            "visible": true
           },
           "globalSeriesType": "combo",
           "hideXAxis": false,
           "isAggregationOn": true,
           "legend": {
            "traceorder": "normal"
           },
           "missingValuesAsZero": true,
           "numberFormat": "0,0.[00000]",
           "percentFormat": "0[.]00%",
           "series": {
            "error_y": {
             "type": "data",
             "visible": true
            },
            "percentValues": false,
            "stacking": null
           },
           "seriesOptions": {
            "column_6f99065838": {
             "type": "column",
             "yAxis": 0
            },
            "column_6f99065843": {
             "type": "line",
             "yAxis": 1
            }
           },
           "showDataLabels": true,
           "sizemode": "diameter",
           "sortX": true,
           "sortY": true,
           "swappedAxes": false,
           "textFormat": "",
           "useAggregationsUi": true,
           "valuesOptions": {},
           "version": 2,
           "xAxis": {
            "labels": {
             "enabled": true
            },
            "type": "-"
           },
           "yAxis": [
            {
             "type": "-"
            },
            {
             "opposite": true,
             "type": "-"
            }
           ]
          }
         }
        ]
       },
       "datasetPreviewNameToCmdIdMap": {},
       "diffDeletes": [],
       "diffInserts": [],
       "displayType": "redashChart",
       "error": null,
       "errorDetails": null,
       "errorSummary": null,
       "errorTraceType": null,
       "finishTime": 0,
       "globalVars": {},
       "guid": "",
       "height": "auto",
       "hideCommandCode": false,
       "hideCommandResult": false,
       "iPythonMetadata": null,
       "inputWidgets": {},
       "isLockedInExamMode": false,
       "latestUser": "a user",
       "latestUserId": null,
       "listResultMetadata": null,
       "metadata": {},
       "nuid": "d65fd417-9e78-4c4e-9096-4a912d19f5e7",
       "origId": 0,
       "parentHierarchy": [],
       "pivotAggregation": null,
       "pivotColumns": null,
       "position": 14.5,
       "resultDbfsErrorMessage": null,
       "resultDbfsStatus": "INLINED_IN_TREE",
       "results": null,
       "showCommandTitle": false,
       "startTime": 0,
       "state": "input",
       "streamStates": {},
       "subcommandOptions": {
        "queryPlan": {
         "groups": [
          {
           "column": "Ano",
           "type": "column"
          }
         ],
         "selects": [
          {
           "column": "Ano",
           "type": "column"
          },
          {
           "alias": "column_6f99065838",
           "args": [
            {
             "column": "Total",
             "type": "column"
            }
           ],
           "function": "SUM",
           "type": "function"
          },
          {
           "alias": "column_6f99065843",
           "args": [
            {
             "column": "% Perc",
             "type": "column"
            }
           ],
           "function": "SUM",
           "type": "function"
          }
         ]
        }
       },
       "submitTime": 0,
       "subtype": "tableResultSubCmd.visualization",
       "tableResultIndex": 0,
       "tableResultSettingsMap": {},
       "useConsistentColors": false,
       "version": "CommandV1",
       "width": "auto",
       "workflows": [],
       "xColumns": null,
       "yColumns": null
      }
     },
     "output_type": "display_data"
    }
   ],
   "source": [
    "%sql\n",
    "SELECT\n",
    "ano as Ano,\n",
    "Sum(homicidio_doloso) as Hom_Doloso,\n",
    "Sum(homicidio_doloso_por_acidente_de_transito) as Hom_Dol_AT,\n",
    "Sum(homicidio_culposo_outros) as Hom_Cul,\n",
    "Sum(homicidio_culposo_por_acidente_de_transito) as Hom_Cul_AT,\n",
    "Sum(homicidio_doloso) + Sum(homicidio_doloso_por_acidente_de_transito) + sum(homicidio_culposo_outros) + sum(homicidio_culposo_por_acidente_de_transito)  as Total,\n",
    "\n",
    "Round(((\n",
    "  Sum(homicidio_doloso) +\n",
    "  Sum(homicidio_doloso_por_acidente_de_transito) + \n",
    "  Sum(homicidio_culposo_outros) + \n",
    "  Sum(homicidio_culposo_por_acidente_de_transito)) \n",
    "  * 100.0 / \n",
    "  (SELECT (\n",
    "    Sum(homicidio_doloso) + \n",
    "    Sum(homicidio_doloso_por_acidente_de_transito) + \n",
    "    Sum(homicidio_culposo_outros) + \n",
    "    Sum(homicidio_culposo_por_acidente_de_transito)) \n",
    "    FROM Db_Ocorrencia.geral)),2) AS `% Perc`\n",
    "\n",
    "FROM Db_Ocorrencia.geral\n",
    "GROUP BY Ano\n",
    "ORDER BY Total DESC\n",
    "LIMIT 5"
   ]
  },
  {
   "cell_type": "code",
   "execution_count": 0,
   "metadata": {
    "application/vnd.databricks.v1+cell": {
     "cellMetadata": {
      "byteLimit": 2048000,
      "implicitDf": true,
      "rowLimit": 10000
     },
     "inputWidgets": {},
     "nuid": "5e7ff443-de06-48c9-9b1c-07883baa24bb",
     "showTitle": true,
     "tableResultSettingsMap": {},
     "title": "Ranking de Homicídios por Cidade"
    }
   },
   "outputs": [
    {
     "output_type": "display_data",
     "data": {
      "text/html": [
       "<style scoped>\n",
       "  .table-result-container {\n",
       "    max-height: 300px;\n",
       "    overflow: auto;\n",
       "  }\n",
       "  table, th, td {\n",
       "    border: 1px solid black;\n",
       "    border-collapse: collapse;\n",
       "  }\n",
       "  th, td {\n",
       "    padding: 5px;\n",
       "  }\n",
       "  th {\n",
       "    text-align: left;\n",
       "  }\n",
       "</style><div class='table-result-container'><table class='table-result'><thead style='background-color: white'><tr><th>Municipio</th><th>Hom_Doloso</th><th>Hom_Dol_AT</th><th>Hom_Cul</th><th>Hom_Cul_AT</th><th>Total</th><th>% Perc</th></tr></thead><tbody><tr><td>São Paulo</td><td>3081</td><td>44</td><td>125</td><td>1847</td><td>5097</td><td>17.09</td></tr><tr><td>Campinas</td><td>604</td><td>0</td><td>12</td><td>434</td><td>1050</td><td>3.52</td></tr><tr><td>Guarulhos</td><td>414</td><td>3</td><td>21</td><td>384</td><td>822</td><td>2.76</td></tr><tr><td>Sorocaba</td><td>227</td><td>2</td><td>1</td><td>245</td><td>475</td><td>1.59</td></tr><tr><td>Ribeirão Preto</td><td>208</td><td>2</td><td>8</td><td>219</td><td>437</td><td>1.47</td></tr><tr><td>São José dos Campos</td><td>186</td><td>1</td><td>3</td><td>206</td><td>396</td><td>1.33</td></tr><tr><td>São Bernardo do Campo</td><td>182</td><td>5</td><td>13</td><td>193</td><td>393</td><td>1.32</td></tr><tr><td>Osasco</td><td>240</td><td>2</td><td>13</td><td>128</td><td>383</td><td>1.28</td></tr><tr><td>Jundiaí</td><td>82</td><td>0</td><td>2</td><td>225</td><td>309</td><td>1.04</td></tr><tr><td>Santo André</td><td>199</td><td>1</td><td>13</td><td>85</td><td>298</td><td>1.00</td></tr></tbody></table></div>"
      ]
     },
     "metadata": {
      "application/vnd.databricks.v1+output": {
       "addedWidgets": {},
       "aggData": [],
       "aggError": "",
       "aggOverflow": false,
       "aggSchema": [],
       "aggSeriesLimitReached": false,
       "aggType": "",
       "arguments": {},
       "columnCustomDisplayInfos": {},
       "data": [
        [
         "São Paulo",
         3081,
         44,
         125,
         1847,
         5097,
         "17.09"
        ],
        [
         "Campinas",
         604,
         0,
         12,
         434,
         1050,
         "3.52"
        ],
        [
         "Guarulhos",
         414,
         3,
         21,
         384,
         822,
         "2.76"
        ],
        [
         "Sorocaba",
         227,
         2,
         1,
         245,
         475,
         "1.59"
        ],
        [
         "Ribeirão Preto",
         208,
         2,
         8,
         219,
         437,
         "1.47"
        ],
        [
         "São José dos Campos",
         186,
         1,
         3,
         206,
         396,
         "1.33"
        ],
        [
         "São Bernardo do Campo",
         182,
         5,
         13,
         193,
         393,
         "1.32"
        ],
        [
         "Osasco",
         240,
         2,
         13,
         128,
         383,
         "1.28"
        ],
        [
         "Jundiaí",
         82,
         0,
         2,
         225,
         309,
         "1.04"
        ],
        [
         "Santo André",
         199,
         1,
         13,
         85,
         298,
         "1.00"
        ]
       ],
       "datasetInfos": [],
       "dbfsResultPath": null,
       "isJsonSchema": true,
       "metadata": {},
       "overflow": false,
       "plotOptions": {
        "customPlotOptions": {},
        "displayType": "table",
        "pivotAggregation": null,
        "pivotColumns": null,
        "xColumns": null,
        "yColumns": null
       },
       "removedWidgets": [],
       "schema": [
        {
         "metadata": "{}",
         "name": "Municipio",
         "type": "\"string\""
        },
        {
         "metadata": "{}",
         "name": "Hom_Doloso",
         "type": "\"long\""
        },
        {
         "metadata": "{}",
         "name": "Hom_Dol_AT",
         "type": "\"long\""
        },
        {
         "metadata": "{}",
         "name": "Hom_Cul",
         "type": "\"long\""
        },
        {
         "metadata": "{}",
         "name": "Hom_Cul_AT",
         "type": "\"long\""
        },
        {
         "metadata": "{}",
         "name": "Total",
         "type": "\"long\""
        },
        {
         "metadata": "{}",
         "name": "% Perc",
         "type": "\"decimal(27,2)\""
        }
       ],
       "type": "table"
      }
     },
     "output_type": "display_data"
    }
   ],
   "source": [
    "%sql\n",
    "SELECT\n",
    "nome as Municipio,\n",
    "Sum(homicidio_doloso) as Hom_Doloso,\n",
    "Sum(homicidio_doloso_por_acidente_de_transito) as Hom_Dol_AT,\n",
    "Sum(homicidio_culposo_outros) as Hom_Cul,\n",
    "Sum(homicidio_culposo_por_acidente_de_transito) as Hom_Cul_AT,\n",
    "Sum(homicidio_doloso) + Sum(homicidio_doloso_por_acidente_de_transito) + sum(homicidio_culposo_outros) + sum(homicidio_culposo_por_acidente_de_transito)  as Total,\n",
    "\n",
    "Round(((\n",
    "  Sum(homicidio_doloso) +\n",
    "  Sum(homicidio_doloso_por_acidente_de_transito) + \n",
    "  Sum(homicidio_culposo_outros) + \n",
    "  Sum(homicidio_culposo_por_acidente_de_transito)) \n",
    "  * 100.0 / \n",
    "  (SELECT (\n",
    "    Sum(homicidio_doloso) + \n",
    "    Sum(homicidio_doloso_por_acidente_de_transito) + \n",
    "    Sum(homicidio_culposo_outros) + \n",
    "    Sum(homicidio_culposo_por_acidente_de_transito)) \n",
    "    FROM Db_Ocorrencia.geral)),2) AS `% Perc`\n",
    "\n",
    "FROM Db_Ocorrencia.geral\n",
    "WHERE Ano BETWEEN 2011 and 2021\n",
    "GROUP BY Municipio\n",
    "ORDER BY Total DESC\n",
    "LIMIT 10"
   ]
  }
 ],
 "metadata": {
  "application/vnd.databricks.v1+notebook": {
   "computePreferences": null,
   "dashboards": [],
   "environmentMetadata": {
    "base_environment": "",
    "environment_version": "1"
   },
   "inputWidgetPreferences": null,
   "language": "python",
   "notebookMetadata": {
    "mostRecentlyExecutedCommandWithImplicitDF": {
     "commandId": 1032212091139024,
     "dataframes": [
      "_sqldf"
     ]
    },
    "pythonIndentUnit": 4
   },
   "notebookName": "MVP_EngenhariaDeDados_PUCRio",
   "widgets": {}
  }
 },
 "nbformat": 4,
 "nbformat_minor": 0
}