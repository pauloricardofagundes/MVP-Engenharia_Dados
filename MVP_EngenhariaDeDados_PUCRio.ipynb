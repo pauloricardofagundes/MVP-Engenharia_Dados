{
 "cells": [
  {
   "cell_type": "markdown",
   "metadata": {
    "application/vnd.databricks.v1+cell": {
     "cellMetadata": {},
     "inputWidgets": {},
     "nuid": "a7ed9b28-ccf3-4979-b3f7-a49059667364",
     "showTitle": false,
     "tableResultSettingsMap": {},
     "title": ""
    }
   },
   "source": [
    "# Projeto Banco de Dados\n",
    "# Ocorrências Policiais de São Paulo/SP"
   ]
  },
  {
   "cell_type": "markdown",
   "metadata": {
    "application/vnd.databricks.v1+cell": {
     "cellMetadata": {},
     "inputWidgets": {},
     "nuid": "3b5f9591-5de5-4409-a813-79d5d55f6c61",
     "showTitle": false,
     "tableResultSettingsMap": {},
     "title": ""
    }
   },
   "source": [
    "# Objetivo\n",
    "Com base em informações de Ocorrências Policiais do Estado de São Paulo, entre os anos de 2002 e 2021, pretende-se neste projeto avaliar alguns questionamentos e encontrar possíveis soluções com base no tema da segurança pública.\n",
    "\n",
    "Para construção deste projeto, o material seguirá as seguintes etapas:\n",
    "\n",
    "**1. Detalhamento:**\n",
    "  Nesta etapa consta as características do dataset escolhido;\n",
    "\n",
    "**2. Importação de Dados:** \n",
    "  Dados serão importados e preparados;\n",
    "\n",
    "**3. Criação do Banco de Dados:** \n",
    "  Criando o banco e as tabelas que serão necessárias;\n",
    "\n",
    "**4. Criação de Tabela Ouro:**\n",
    "   Criando a tabela final que será utilizada nas análises;\n",
    "\n",
    "**5. Análises:**\n",
    "  Consultas com análises a respeito dos dados obtidos, como:\n",
    "\n",
    "-   5 anos com maiores incidentes de homicidio;\n",
    "-   Top 10 cidades em registros de homicídio nos últimos 10 anos (2011-2021);\n",
    "-   Top 5 cidades em registros de Roubo e Furto na última década (2010 - 2019);\n",
    "-   Histórico da última década (2010 - 2019) de Roubo e Furtos na cidade de São Paulo;\n",
    "-  Top 5 anos em quantidade de ocorrências policiais no estado;\n",
    "     \n",
    "\n",
    "**6. Autoavaliação.**"
   ]
  },
  {
   "cell_type": "markdown",
   "metadata": {
    "application/vnd.databricks.v1+cell": {
     "cellMetadata": {},
     "inputWidgets": {},
     "nuid": "761054de-e64b-4732-aae4-33d0f19c3252",
     "showTitle": false,
     "tableResultSettingsMap": {},
     "title": ""
    }
   },
   "source": [
    "# 1. Detalhamento\n",
    "\n",
    "## 1.1 - Origem dos Dados\n",
    "Dados públicos fornecidos pela Secretaria de Segurança Pública do Estado de São Paulo entre os anos de 2002 a 2021.\n",
    "\n",
    "## 1.2 - Catálogo de Dados\n",
    "\n",
    "**1.2.1 Tabela de Ocorrências:**\n",
    "\n",
    "Tabela com quantidade de ocorrências policiais registradas em todos os municípios do estado de São Paulo.\n",
    "\n",
    "![Catalogo Ocorrencias](https://raw.githubusercontent.com/pauloricardofagundes/MVP-Engenharia_Dados/refs/heads/main/Catalogo_dados_MVP1.png)\n",
    "\n",
    "**1.2.2 Tabela de Municípios:**\n",
    "\n",
    "Tabela que será utilizada apenas para localizar o nome do município, de acordo com a chave primária \"id_municipio\" que consta em ambas tabelas.\n",
    "\n",
    "_(Serão carregados para criação do banco de dados apenas os 2 campos necessários para identificação do município)_\n",
    "\n",
    "![Catalogo Municipios](https://raw.githubusercontent.com/pauloricardofagundes/MVP-Engenharia_Dados/refs/heads/main/Catalogo_dados_MVP2.png)"
   ]
  },
  {
   "cell_type": "markdown",
   "metadata": {
    "application/vnd.databricks.v1+cell": {
     "cellMetadata": {},
     "inputWidgets": {},
     "nuid": "80f7462e-5cb2-4cbe-b6e5-aaeeb7c5ab90",
     "showTitle": false,
     "tableResultSettingsMap": {},
     "title": ""
    }
   },
   "source": [
    "# 2. Importação dos dados para criação do Database"
   ]
  },
  {
   "cell_type": "code",
   "execution_count": 0,
   "metadata": {
    "application/vnd.databricks.v1+cell": {
     "cellMetadata": {
      "byteLimit": 2048000,
      "rowLimit": 10000
     },
     "inputWidgets": {},
     "nuid": "12b0bc66-854a-4c6b-a230-60d1d84f8003",
     "showTitle": true,
     "tableResultSettingsMap": {},
     "title": "Importação de Bibliotecas"
    }
   },
   "outputs": [],
   "source": [
    "## Importando Bibliotecas\n",
    "from pyspark import SparkFiles\n",
    "from pyspark.sql import SparkSession\n",
    "from pyspark.sql.types import IntegerType\n",
    "from pyspark.sql.window import Window\n",
    "from pyspark.sql.functions import col, row_number"
   ]
  },
  {
   "cell_type": "code",
   "execution_count": 0,
   "metadata": {
    "application/vnd.databricks.v1+cell": {
     "cellMetadata": {
      "byteLimit": 2048000,
      "rowLimit": 10000
     },
     "inputWidgets": {},
     "nuid": "a8b53d72-e017-4f4a-b57d-8c2f0f1d5c82",
     "showTitle": true,
     "tableResultSettingsMap": {},
     "title": "Importação de Arquivos"
    }
   },
   "outputs": [],
   "source": [
    "# Base de dados com registro de ocorrências\n",
    "url_1 = \"https://raw.githubusercontent.com/pauloricardofagundes/MVP-Engenharia_Dados/refs/heads/main/br_sp_gov_ssp_ocorrencias_registradas.csv\"  \n",
    "\n",
    "# Base de identificação de municícipios, para join com a base de ocorrências\n",
    "url_2 = \"https://raw.githubusercontent.com/pauloricardofagundes/MVP-Engenharia_Dados/refs/heads/main/br_bd_diretorios_brasil_municipio.csv\"  \n",
    "\n",
    "# Leitura dos datasets\n",
    "spark.sparkContext.addFile(url_1)\n",
    "df_bd_ocorrencias = spark.read.csv(\n",
    "    \"file://\" + SparkFiles.get(\"br_sp_gov_ssp_ocorrencias_registradas.csv\"),\n",
    "    header=True,\n",
    "    inferSchema=False,\n",
    ")\n",
    "\n",
    "spark.sparkContext.addFile(url_2)\n",
    "df_bd_municipios = spark.read.csv(\n",
    "    \"file://\" + SparkFiles.get(\"br_bd_diretorios_brasil_municipio.csv\"),\n",
    "    header=True,\n",
    "    inferSchema=False,\n",
    ")\n",
    "\n",
    "# Convertendo campos numéricos de texto para número inteiro\n",
    "Campos_Num = [  \"ano\",\n",
    "                \"homicidio_doloso\",\n",
    "                \"numero_de_vitimas_em_homicidio_doloso\",\n",
    "                \"homicidio_doloso_por_acidente_de_transito\",\n",
    "                \"numero_de_vitimas_em_homicidio_doloso_por_acidente_de_transito\",\n",
    "                \"homicidio_culposo_por_acidente_de_transito\",\n",
    "                \"homicidio_culposo_outros\",\n",
    "                \"tentativa_de_homicidio\",\n",
    "                \"lesao_corporal_seguida_de_morte\",\n",
    "                \"lesao_corporal_dolosa\",\n",
    "                \"lesao_corporal_culposa_por_acidente_de_transito\",\n",
    "                \"lesao_corporal_culposa_outras\",\n",
    "                \"latrocinio\",\n",
    "                \"numero_de_vitimas_em_latrocinio\",\n",
    "                \"total_de_estupro\",\n",
    "                \"estupro\",\n",
    "                \"estupro_de_vulneravel\",\n",
    "                \"total_de_roubo_outros\",\n",
    "                \"roubo_outros\",\n",
    "                \"roubo_de_veiculo\",\n",
    "                \"roubo_a_banco\",\n",
    "                \"roubo_de_carga\",\n",
    "                \"furto_outros\",\n",
    "                \"furto_de_veiculo\"\n",
    "                ]\n",
    "\n",
    "for x in Campos_Num: \n",
    "    df_bd_ocorrencias = df_bd_ocorrencias.withColumn(x, df_bd_ocorrencias[x].cast(IntegerType()))\n",
    "\n",
    "# Selecionar colunas específicas da tabela de município\n",
    "colunas_desejadas = [\"id_municipio\", \"nome\"]\n",
    "df_bd_municipios = df_bd_municipios.select(colunas_desejadas)\n"
   ]
  },
  {
   "cell_type": "markdown",
   "metadata": {
    "application/vnd.databricks.v1+cell": {
     "cellMetadata": {},
     "inputWidgets": {},
     "nuid": "395fb6c7-1b8e-469f-91ba-b7bb0a12ef04",
     "showTitle": false,
     "tableResultSettingsMap": {},
     "title": ""
    }
   },
   "source": [
    "# 3. Criação do Banco de Dados"
   ]
  },
  {
   "cell_type": "code",
   "execution_count": 0,
   "metadata": {
    "application/vnd.databricks.v1+cell": {
     "cellMetadata": {
      "byteLimit": 2048000,
      "implicitDf": true,
      "rowLimit": 10000
     },
     "inputWidgets": {},
     "nuid": "40a3d230-838b-43bd-b3b6-2b17835f166e",
     "showTitle": true,
     "tableResultSettingsMap": {},
     "title": "Excluindo database para Recriá-lo"
    }
   },
   "outputs": [
    {
     "output_type": "display_data",
     "data": {
      "text/html": [
       "<style scoped>\n",
       "  .table-result-container {\n",
       "    max-height: 300px;\n",
       "    overflow: auto;\n",
       "  }\n",
       "  table, th, td {\n",
       "    border: 1px solid black;\n",
       "    border-collapse: collapse;\n",
       "  }\n",
       "  th, td {\n",
       "    padding: 5px;\n",
       "  }\n",
       "  th {\n",
       "    text-align: left;\n",
       "  }\n",
       "</style><div class='table-result-container'><table class='table-result'><thead style='background-color: white'><tr></tr></thead><tbody></tbody></table></div>"
      ]
     },
     "metadata": {
      "application/vnd.databricks.v1+output": {
       "addedWidgets": {},
       "aggData": [],
       "aggError": "",
       "aggOverflow": false,
       "aggSchema": [],
       "aggSeriesLimitReached": false,
       "aggType": "",
       "arguments": {},
       "columnCustomDisplayInfos": {},
       "data": [],
       "datasetInfos": [],
       "dbfsResultPath": null,
       "isJsonSchema": true,
       "metadata": {},
       "overflow": false,
       "plotOptions": {
        "customPlotOptions": {},
        "displayType": "table",
        "pivotAggregation": null,
        "pivotColumns": null,
        "xColumns": null,
        "yColumns": null
       },
       "removedWidgets": [],
       "schema": [],
       "type": "table"
      }
     },
     "output_type": "display_data"
    }
   ],
   "source": [
    "%sql\n",
    "-- Deletando o banco de dados (caso exista)\n",
    "\n",
    "DROP DATABASE Db_Ocorrencia CASCADE; \n"
   ]
  },
  {
   "cell_type": "code",
   "execution_count": 0,
   "metadata": {
    "application/vnd.databricks.v1+cell": {
     "cellMetadata": {
      "byteLimit": 2048000,
      "implicitDf": true,
      "rowLimit": 10000
     },
     "inputWidgets": {},
     "nuid": "9c99d31b-4460-4d22-824e-8e5b3f89acaa",
     "showTitle": true,
     "tableResultSettingsMap": {},
     "title": "Criando o database"
    }
   },
   "outputs": [
    {
     "output_type": "display_data",
     "data": {
      "text/html": [
       "<style scoped>\n",
       "  .table-result-container {\n",
       "    max-height: 300px;\n",
       "    overflow: auto;\n",
       "  }\n",
       "  table, th, td {\n",
       "    border: 1px solid black;\n",
       "    border-collapse: collapse;\n",
       "  }\n",
       "  th, td {\n",
       "    padding: 5px;\n",
       "  }\n",
       "  th {\n",
       "    text-align: left;\n",
       "  }\n",
       "</style><div class='table-result-container'><table class='table-result'><thead style='background-color: white'><tr></tr></thead><tbody></tbody></table></div>"
      ]
     },
     "metadata": {
      "application/vnd.databricks.v1+output": {
       "addedWidgets": {},
       "aggData": [],
       "aggError": "",
       "aggOverflow": false,
       "aggSchema": [],
       "aggSeriesLimitReached": false,
       "aggType": "",
       "arguments": {},
       "columnCustomDisplayInfos": {},
       "data": [],
       "datasetInfos": [],
       "dbfsResultPath": null,
       "isJsonSchema": true,
       "metadata": {},
       "overflow": false,
       "plotOptions": {
        "customPlotOptions": {},
        "displayType": "table",
        "pivotAggregation": null,
        "pivotColumns": null,
        "xColumns": null,
        "yColumns": null
       },
       "removedWidgets": [],
       "schema": [],
       "type": "table"
      }
     },
     "output_type": "display_data"
    }
   ],
   "source": [
    "%sql\n",
    "-- Criando o novo banco de dados\n",
    "\n",
    "CREATE DATABASE Db_Ocorrencia; "
   ]
  },
  {
   "cell_type": "code",
   "execution_count": 0,
   "metadata": {
    "application/vnd.databricks.v1+cell": {
     "cellMetadata": {
      "byteLimit": 2048000,
      "rowLimit": 10000
     },
     "inputWidgets": {},
     "nuid": "63e037ef-131e-4b38-9295-d92e7124d29a",
     "showTitle": true,
     "tableResultSettingsMap": {},
     "title": "Criando as Tabelas"
    }
   },
   "outputs": [],
   "source": [
    "## Criando as Tabelas \"ocorrencias\" e \"municipios\"\n",
    "\n",
    "df_bd_ocorrencias.write.mode(\"overwrite\").saveAsTable(\"Db_Ocorrencia.ocorrencias\")\n",
    "df_bd_municipios.write.mode(\"overwrite\").saveAsTable(\"Db_Ocorrencia.municipios\")"
   ]
  },
  {
   "cell_type": "code",
   "execution_count": 0,
   "metadata": {
    "application/vnd.databricks.v1+cell": {
     "cellMetadata": {
      "byteLimit": 2048000,
      "implicitDf": true,
      "rowLimit": 10000
     },
     "inputWidgets": {},
     "nuid": "c72eb577-58f9-416a-a75c-077c3714e6b4",
     "showTitle": true,
     "tableResultSettingsMap": {},
     "title": "Verificando a tabela \"ocorrencias\" criada"
    }
   },
   "outputs": [
    {
     "output_type": "display_data",
     "data": {
      "text/html": [
       "<style scoped>\n",
       "  .table-result-container {\n",
       "    max-height: 300px;\n",
       "    overflow: auto;\n",
       "  }\n",
       "  table, th, td {\n",
       "    border: 1px solid black;\n",
       "    border-collapse: collapse;\n",
       "  }\n",
       "  th, td {\n",
       "    padding: 5px;\n",
       "  }\n",
       "  th {\n",
       "    text-align: left;\n",
       "  }\n",
       "</style><div class='table-result-container'><table class='table-result'><thead style='background-color: white'><tr><th>ano</th><th>mes</th><th>id_municipio</th><th>regiao_ssp</th><th>homicidio_doloso</th><th>numero_de_vitimas_em_homicidio_doloso</th><th>homicidio_doloso_por_acidente_de_transito</th><th>numero_de_vitimas_em_homicidio_doloso_por_acidente_de_transito</th><th>homicidio_culposo_por_acidente_de_transito</th><th>homicidio_culposo_outros</th><th>tentativa_de_homicidio</th><th>lesao_corporal_seguida_de_morte</th><th>lesao_corporal_dolosa</th><th>lesao_corporal_culposa_por_acidente_de_transito</th><th>lesao_corporal_culposa_outras</th><th>latrocinio</th><th>numero_de_vitimas_em_latrocinio</th><th>total_de_estupro</th><th>estupro</th><th>estupro_de_vulneravel</th><th>total_de_roubo_outros</th><th>roubo_outros</th><th>roubo_de_veiculo</th><th>roubo_a_banco</th><th>roubo_de_carga</th><th>furto_outros</th><th>furto_de_veiculo</th></tr></thead><tbody><tr><td>2002</td><td>1</td><td>3500105</td><td>Presidente Prudente</td><td>0</td><td>0</td><td>0</td><td>0</td><td>0</td><td>0</td><td>0</td><td>0</td><td>24</td><td>13</td><td>2</td><td>0</td><td>0</td><td>0</td><td>null</td><td>null</td><td>0</td><td>null</td><td>0</td><td>0</td><td>0</td><td>21</td><td>0</td></tr><tr><td>2002</td><td>2</td><td>3500105</td><td>Presidente Prudente</td><td>0</td><td>0</td><td>0</td><td>0</td><td>0</td><td>0</td><td>0</td><td>0</td><td>24</td><td>15</td><td>2</td><td>0</td><td>0</td><td>0</td><td>null</td><td>null</td><td>0</td><td>null</td><td>0</td><td>0</td><td>0</td><td>32</td><td>0</td></tr><tr><td>2002</td><td>3</td><td>3500105</td><td>Presidente Prudente</td><td>0</td><td>0</td><td>0</td><td>0</td><td>0</td><td>0</td><td>1</td><td>0</td><td>21</td><td>13</td><td>5</td><td>0</td><td>0</td><td>0</td><td>null</td><td>null</td><td>0</td><td>null</td><td>0</td><td>0</td><td>0</td><td>36</td><td>0</td></tr><tr><td>2002</td><td>4</td><td>3500105</td><td>Presidente Prudente</td><td>0</td><td>0</td><td>0</td><td>0</td><td>0</td><td>0</td><td>1</td><td>0</td><td>36</td><td>13</td><td>1</td><td>0</td><td>0</td><td>0</td><td>null</td><td>null</td><td>1</td><td>null</td><td>0</td><td>0</td><td>0</td><td>45</td><td>0</td></tr><tr><td>2002</td><td>5</td><td>3500105</td><td>Presidente Prudente</td><td>0</td><td>0</td><td>0</td><td>0</td><td>0</td><td>0</td><td>0</td><td>0</td><td>27</td><td>12</td><td>1</td><td>0</td><td>0</td><td>0</td><td>null</td><td>null</td><td>1</td><td>null</td><td>0</td><td>0</td><td>0</td><td>35</td><td>0</td></tr></tbody></table></div>"
      ]
     },
     "metadata": {
      "application/vnd.databricks.v1+output": {
       "addedWidgets": {},
       "aggData": [],
       "aggError": "",
       "aggOverflow": false,
       "aggSchema": [],
       "aggSeriesLimitReached": false,
       "aggType": "",
       "arguments": {},
       "columnCustomDisplayInfos": {},
       "data": [
        [
         2002,
         "1",
         "3500105",
         "Presidente Prudente",
         0,
         0,
         0,
         0,
         0,
         0,
         0,
         0,
         24,
         13,
         2,
         0,
         0,
         0,
         null,
         null,
         0,
         null,
         0,
         0,
         0,
         21,
         0
        ],
        [
         2002,
         "2",
         "3500105",
         "Presidente Prudente",
         0,
         0,
         0,
         0,
         0,
         0,
         0,
         0,
         24,
         15,
         2,
         0,
         0,
         0,
         null,
         null,
         0,
         null,
         0,
         0,
         0,
         32,
         0
        ],
        [
         2002,
         "3",
         "3500105",
         "Presidente Prudente",
         0,
         0,
         0,
         0,
         0,
         0,
         1,
         0,
         21,
         13,
         5,
         0,
         0,
         0,
         null,
         null,
         0,
         null,
         0,
         0,
         0,
         36,
         0
        ],
        [
         2002,
         "4",
         "3500105",
         "Presidente Prudente",
         0,
         0,
         0,
         0,
         0,
         0,
         1,
         0,
         36,
         13,
         1,
         0,
         0,
         0,
         null,
         null,
         1,
         null,
         0,
         0,
         0,
         45,
         0
        ],
        [
         2002,
         "5",
         "3500105",
         "Presidente Prudente",
         0,
         0,
         0,
         0,
         0,
         0,
         0,
         0,
         27,
         12,
         1,
         0,
         0,
         0,
         null,
         null,
         1,
         null,
         0,
         0,
         0,
         35,
         0
        ]
       ],
       "datasetInfos": [],
       "dbfsResultPath": null,
       "isJsonSchema": true,
       "metadata": {},
       "overflow": false,
       "plotOptions": {
        "customPlotOptions": {},
        "displayType": "table",
        "pivotAggregation": null,
        "pivotColumns": null,
        "xColumns": null,
        "yColumns": null
       },
       "removedWidgets": [],
       "schema": [
        {
         "metadata": "{}",
         "name": "ano",
         "type": "\"integer\""
        },
        {
         "metadata": "{}",
         "name": "mes",
         "type": "\"string\""
        },
        {
         "metadata": "{}",
         "name": "id_municipio",
         "type": "\"string\""
        },
        {
         "metadata": "{}",
         "name": "regiao_ssp",
         "type": "\"string\""
        },
        {
         "metadata": "{}",
         "name": "homicidio_doloso",
         "type": "\"integer\""
        },
        {
         "metadata": "{}",
         "name": "numero_de_vitimas_em_homicidio_doloso",
         "type": "\"integer\""
        },
        {
         "metadata": "{}",
         "name": "homicidio_doloso_por_acidente_de_transito",
         "type": "\"integer\""
        },
        {
         "metadata": "{}",
         "name": "numero_de_vitimas_em_homicidio_doloso_por_acidente_de_transito",
         "type": "\"integer\""
        },
        {
         "metadata": "{}",
         "name": "homicidio_culposo_por_acidente_de_transito",
         "type": "\"integer\""
        },
        {
         "metadata": "{}",
         "name": "homicidio_culposo_outros",
         "type": "\"integer\""
        },
        {
         "metadata": "{}",
         "name": "tentativa_de_homicidio",
         "type": "\"integer\""
        },
        {
         "metadata": "{}",
         "name": "lesao_corporal_seguida_de_morte",
         "type": "\"integer\""
        },
        {
         "metadata": "{}",
         "name": "lesao_corporal_dolosa",
         "type": "\"integer\""
        },
        {
         "metadata": "{}",
         "name": "lesao_corporal_culposa_por_acidente_de_transito",
         "type": "\"integer\""
        },
        {
         "metadata": "{}",
         "name": "lesao_corporal_culposa_outras",
         "type": "\"integer\""
        },
        {
         "metadata": "{}",
         "name": "latrocinio",
         "type": "\"integer\""
        },
        {
         "metadata": "{}",
         "name": "numero_de_vitimas_em_latrocinio",
         "type": "\"integer\""
        },
        {
         "metadata": "{}",
         "name": "total_de_estupro",
         "type": "\"integer\""
        },
        {
         "metadata": "{}",
         "name": "estupro",
         "type": "\"integer\""
        },
        {
         "metadata": "{}",
         "name": "estupro_de_vulneravel",
         "type": "\"integer\""
        },
        {
         "metadata": "{}",
         "name": "total_de_roubo_outros",
         "type": "\"integer\""
        },
        {
         "metadata": "{}",
         "name": "roubo_outros",
         "type": "\"integer\""
        },
        {
         "metadata": "{}",
         "name": "roubo_de_veiculo",
         "type": "\"integer\""
        },
        {
         "metadata": "{}",
         "name": "roubo_a_banco",
         "type": "\"integer\""
        },
        {
         "metadata": "{}",
         "name": "roubo_de_carga",
         "type": "\"integer\""
        },
        {
         "metadata": "{}",
         "name": "furto_outros",
         "type": "\"integer\""
        },
        {
         "metadata": "{}",
         "name": "furto_de_veiculo",
         "type": "\"integer\""
        }
       ],
       "type": "table"
      }
     },
     "output_type": "display_data"
    }
   ],
   "source": [
    "%sql \n",
    "-- Verificando a tabela criada \"ocorrencias\"\n",
    "\n",
    "SELECT * \n",
    "FROM Db_Ocorrencia.ocorrencias\n",
    "LIMIT 5"
   ]
  },
  {
   "cell_type": "code",
   "execution_count": 0,
   "metadata": {
    "application/vnd.databricks.v1+cell": {
     "cellMetadata": {
      "byteLimit": 2048000,
      "implicitDf": true,
      "rowLimit": 10000
     },
     "inputWidgets": {},
     "nuid": "0f2f3c17-eef4-4ec6-a8f0-b46da888d7e7",
     "showTitle": true,
     "tableResultSettingsMap": {},
     "title": "Verificando a tabela \"municipios\" criada"
    }
   },
   "outputs": [
    {
     "output_type": "display_data",
     "data": {
      "text/html": [
       "<style scoped>\n",
       "  .table-result-container {\n",
       "    max-height: 300px;\n",
       "    overflow: auto;\n",
       "  }\n",
       "  table, th, td {\n",
       "    border: 1px solid black;\n",
       "    border-collapse: collapse;\n",
       "  }\n",
       "  th, td {\n",
       "    padding: 5px;\n",
       "  }\n",
       "  th {\n",
       "    text-align: left;\n",
       "  }\n",
       "</style><div class='table-result-container'><table class='table-result'><thead style='background-color: white'><tr><th>id_municipio</th><th>nome</th></tr></thead><tbody><tr><td>1100338</td><td>Nova Mamoré</td></tr><tr><td>1100205</td><td>Porto Velho</td></tr><tr><td>1101104</td><td>Itapuã do Oeste</td></tr><tr><td>1100809</td><td>Candeias do Jamari</td></tr><tr><td>1100940</td><td>Cujubim</td></tr></tbody></table></div>"
      ]
     },
     "metadata": {
      "application/vnd.databricks.v1+output": {
       "addedWidgets": {},
       "aggData": [],
       "aggError": "",
       "aggOverflow": false,
       "aggSchema": [],
       "aggSeriesLimitReached": false,
       "aggType": "",
       "arguments": {},
       "columnCustomDisplayInfos": {},
       "data": [
        [
         "1100338",
         "Nova Mamoré"
        ],
        [
         "1100205",
         "Porto Velho"
        ],
        [
         "1101104",
         "Itapuã do Oeste"
        ],
        [
         "1100809",
         "Candeias do Jamari"
        ],
        [
         "1100940",
         "Cujubim"
        ]
       ],
       "datasetInfos": [],
       "dbfsResultPath": null,
       "isJsonSchema": true,
       "metadata": {},
       "overflow": false,
       "plotOptions": {
        "customPlotOptions": {},
        "displayType": "table",
        "pivotAggregation": null,
        "pivotColumns": null,
        "xColumns": null,
        "yColumns": null
       },
       "removedWidgets": [],
       "schema": [
        {
         "metadata": "{}",
         "name": "id_municipio",
         "type": "\"string\""
        },
        {
         "metadata": "{}",
         "name": "nome",
         "type": "\"string\""
        }
       ],
       "type": "table"
      }
     },
     "output_type": "display_data"
    }
   ],
   "source": [
    "%sql\n",
    "-- Verificando a tabela criada \"municipios\"\n",
    "\n",
    "SELECT * \n",
    "FROM Db_Ocorrencia.municipios\n",
    "LIMIT 5"
   ]
  },
  {
   "cell_type": "markdown",
   "metadata": {
    "application/vnd.databricks.v1+cell": {
     "cellMetadata": {},
     "inputWidgets": {},
     "nuid": "2cd5de74-2e61-4b17-810d-437074257d0a",
     "showTitle": false,
     "tableResultSettingsMap": {},
     "title": ""
    }
   },
   "source": [
    "# 4. Junção de tabelas para criação de tabela flat final"
   ]
  },
  {
   "cell_type": "code",
   "execution_count": 0,
   "metadata": {
    "application/vnd.databricks.v1+cell": {
     "cellMetadata": {
      "byteLimit": 2048000,
      "implicitDf": true,
      "rowLimit": 10000
     },
     "inputWidgets": {},
     "nuid": "e46b02d8-ce9e-4df7-9e61-0388f8f0c777",
     "showTitle": true,
     "tableResultSettingsMap": {},
     "title": "Validando quantidade de registros únicos de municípios"
    }
   },
   "outputs": [
    {
     "output_type": "display_data",
     "data": {
      "text/html": [
       "<style scoped>\n",
       "  .table-result-container {\n",
       "    max-height: 300px;\n",
       "    overflow: auto;\n",
       "  }\n",
       "  table, th, td {\n",
       "    border: 1px solid black;\n",
       "    border-collapse: collapse;\n",
       "  }\n",
       "  th, td {\n",
       "    padding: 5px;\n",
       "  }\n",
       "  th {\n",
       "    text-align: left;\n",
       "  }\n",
       "</style><div class='table-result-container'><table class='table-result'><thead style='background-color: white'><tr><th>Id_municipio</th><th>nome</th><th>contagem</th></tr></thead><tbody></tbody></table></div>"
      ]
     },
     "metadata": {
      "application/vnd.databricks.v1+output": {
       "addedWidgets": {},
       "aggData": [],
       "aggError": "",
       "aggOverflow": false,
       "aggSchema": [],
       "aggSeriesLimitReached": false,
       "aggType": "",
       "arguments": {},
       "columnCustomDisplayInfos": {},
       "data": [],
       "datasetInfos": [],
       "dbfsResultPath": null,
       "isJsonSchema": true,
       "metadata": {},
       "overflow": false,
       "plotOptions": {
        "customPlotOptions": {},
        "displayType": "table",
        "pivotAggregation": null,
        "pivotColumns": null,
        "xColumns": null,
        "yColumns": null
       },
       "removedWidgets": [],
       "schema": [
        {
         "metadata": "{}",
         "name": "Id_municipio",
         "type": "\"string\""
        },
        {
         "metadata": "{}",
         "name": "nome",
         "type": "\"string\""
        },
        {
         "metadata": "{}",
         "name": "contagem",
         "type": "\"long\""
        }
       ],
       "type": "table"
      }
     },
     "output_type": "display_data"
    }
   ],
   "source": [
    "%sql\n",
    "-- Validando quantidade de registros únicos de municípios\n",
    "\n",
    "SELECT\n",
    "Id_municipio,\n",
    "nome,\n",
    "COUNT(*) as contagem\n",
    "FROM Db_Ocorrencia.municipios\n",
    "GROUP BY id_municipio, nome\n",
    "HAVING COUNT(*) > 1\n",
    "ORDER BY contagem DESC"
   ]
  },
  {
   "cell_type": "code",
   "execution_count": 0,
   "metadata": {
    "application/vnd.databricks.v1+cell": {
     "cellMetadata": {
      "byteLimit": 2048000,
      "implicitDf": true,
      "rowLimit": 10000
     },
     "inputWidgets": {},
     "nuid": "c790b2f6-657c-4eaf-b98d-b15645dfece2",
     "showTitle": true,
     "tableResultSettingsMap": {},
     "title": "Junção das tabelas Ocorrência e Municípios, criando tabela Geral"
    }
   },
   "outputs": [
    {
     "output_type": "display_data",
     "data": {
      "text/html": [
       "<style scoped>\n",
       "  .table-result-container {\n",
       "    max-height: 300px;\n",
       "    overflow: auto;\n",
       "  }\n",
       "  table, th, td {\n",
       "    border: 1px solid black;\n",
       "    border-collapse: collapse;\n",
       "  }\n",
       "  th, td {\n",
       "    padding: 5px;\n",
       "  }\n",
       "  th {\n",
       "    text-align: left;\n",
       "  }\n",
       "</style><div class='table-result-container'><table class='table-result'><thead style='background-color: white'><tr><th>num_affected_rows</th><th>num_inserted_rows</th></tr></thead><tbody></tbody></table></div>"
      ]
     },
     "metadata": {
      "application/vnd.databricks.v1+output": {
       "addedWidgets": {},
       "aggData": [],
       "aggError": "",
       "aggOverflow": false,
       "aggSchema": [],
       "aggSeriesLimitReached": false,
       "aggType": "",
       "arguments": {},
       "columnCustomDisplayInfos": {},
       "data": [],
       "datasetInfos": [],
       "dbfsResultPath": null,
       "isJsonSchema": true,
       "metadata": {},
       "overflow": false,
       "plotOptions": {
        "customPlotOptions": {},
        "displayType": "table",
        "pivotAggregation": null,
        "pivotColumns": null,
        "xColumns": null,
        "yColumns": null
       },
       "removedWidgets": [],
       "schema": [
        {
         "metadata": "{}",
         "name": "num_affected_rows",
         "type": "\"long\""
        },
        {
         "metadata": "{}",
         "name": "num_inserted_rows",
         "type": "\"long\""
        }
       ],
       "type": "table"
      }
     },
     "output_type": "display_data"
    }
   ],
   "source": [
    "%sql\n",
    "-- Junção das tabelas \"ocorrencia\" e \"municipio\", criando a tabela ouro final\n",
    "\n",
    "CREATE TABLE Db_Ocorrencia.Geral AS \n",
    "SELECT \n",
    "O.* ,\n",
    "M.nome\n",
    "FROM Db_Ocorrencia.ocorrencias AS O\n",
    " \n",
    "LEFT JOIN \n",
    " (SELECT DISTINCT\n",
    " Id_municipio,\n",
    " nome\n",
    " From Db_Ocorrencia.municipios ) AS M\n",
    "ON O.id_municipio = M.id_municipio"
   ]
  },
  {
   "cell_type": "code",
   "execution_count": 0,
   "metadata": {
    "application/vnd.databricks.v1+cell": {
     "cellMetadata": {
      "byteLimit": 2048000,
      "implicitDf": true,
      "rowLimit": 10000
     },
     "inputWidgets": {},
     "nuid": "82b987bc-8d55-471d-95c9-aef4b76a5d39",
     "showTitle": true,
     "tableResultSettingsMap": {},
     "title": "Testando a tabela Geral"
    }
   },
   "outputs": [
    {
     "output_type": "display_data",
     "data": {
      "text/html": [
       "<style scoped>\n",
       "  .table-result-container {\n",
       "    max-height: 300px;\n",
       "    overflow: auto;\n",
       "  }\n",
       "  table, th, td {\n",
       "    border: 1px solid black;\n",
       "    border-collapse: collapse;\n",
       "  }\n",
       "  th, td {\n",
       "    padding: 5px;\n",
       "  }\n",
       "  th {\n",
       "    text-align: left;\n",
       "  }\n",
       "</style><div class='table-result-container'><table class='table-result'><thead style='background-color: white'><tr><th>ano</th><th>mes</th><th>id_municipio</th><th>regiao_ssp</th><th>homicidio_doloso</th><th>numero_de_vitimas_em_homicidio_doloso</th><th>homicidio_doloso_por_acidente_de_transito</th><th>numero_de_vitimas_em_homicidio_doloso_por_acidente_de_transito</th><th>homicidio_culposo_por_acidente_de_transito</th><th>homicidio_culposo_outros</th><th>tentativa_de_homicidio</th><th>lesao_corporal_seguida_de_morte</th><th>lesao_corporal_dolosa</th><th>lesao_corporal_culposa_por_acidente_de_transito</th><th>lesao_corporal_culposa_outras</th><th>latrocinio</th><th>numero_de_vitimas_em_latrocinio</th><th>total_de_estupro</th><th>estupro</th><th>estupro_de_vulneravel</th><th>total_de_roubo_outros</th><th>roubo_outros</th><th>roubo_de_veiculo</th><th>roubo_a_banco</th><th>roubo_de_carga</th><th>furto_outros</th><th>furto_de_veiculo</th><th>nome</th></tr></thead><tbody><tr><td>2002</td><td>1</td><td>3500105</td><td>Presidente Prudente</td><td>0</td><td>0</td><td>0</td><td>0</td><td>0</td><td>0</td><td>0</td><td>0</td><td>24</td><td>13</td><td>2</td><td>0</td><td>0</td><td>0</td><td>null</td><td>null</td><td>0</td><td>null</td><td>0</td><td>0</td><td>0</td><td>21</td><td>0</td><td>Adamantina</td></tr><tr><td>2002</td><td>2</td><td>3500105</td><td>Presidente Prudente</td><td>0</td><td>0</td><td>0</td><td>0</td><td>0</td><td>0</td><td>0</td><td>0</td><td>24</td><td>15</td><td>2</td><td>0</td><td>0</td><td>0</td><td>null</td><td>null</td><td>0</td><td>null</td><td>0</td><td>0</td><td>0</td><td>32</td><td>0</td><td>Adamantina</td></tr><tr><td>2002</td><td>3</td><td>3500105</td><td>Presidente Prudente</td><td>0</td><td>0</td><td>0</td><td>0</td><td>0</td><td>0</td><td>1</td><td>0</td><td>21</td><td>13</td><td>5</td><td>0</td><td>0</td><td>0</td><td>null</td><td>null</td><td>0</td><td>null</td><td>0</td><td>0</td><td>0</td><td>36</td><td>0</td><td>Adamantina</td></tr><tr><td>2002</td><td>4</td><td>3500105</td><td>Presidente Prudente</td><td>0</td><td>0</td><td>0</td><td>0</td><td>0</td><td>0</td><td>1</td><td>0</td><td>36</td><td>13</td><td>1</td><td>0</td><td>0</td><td>0</td><td>null</td><td>null</td><td>1</td><td>null</td><td>0</td><td>0</td><td>0</td><td>45</td><td>0</td><td>Adamantina</td></tr><tr><td>2002</td><td>5</td><td>3500105</td><td>Presidente Prudente</td><td>0</td><td>0</td><td>0</td><td>0</td><td>0</td><td>0</td><td>0</td><td>0</td><td>27</td><td>12</td><td>1</td><td>0</td><td>0</td><td>0</td><td>null</td><td>null</td><td>1</td><td>null</td><td>0</td><td>0</td><td>0</td><td>35</td><td>0</td><td>Adamantina</td></tr></tbody></table></div>"
      ]
     },
     "metadata": {
      "application/vnd.databricks.v1+output": {
       "addedWidgets": {},
       "aggData": [],
       "aggError": "",
       "aggOverflow": false,
       "aggSchema": [],
       "aggSeriesLimitReached": false,
       "aggType": "",
       "arguments": {},
       "columnCustomDisplayInfos": {},
       "data": [
        [
         2002,
         "1",
         "3500105",
         "Presidente Prudente",
         0,
         0,
         0,
         0,
         0,
         0,
         0,
         0,
         24,
         13,
         2,
         0,
         0,
         0,
         null,
         null,
         0,
         null,
         0,
         0,
         0,
         21,
         0,
         "Adamantina"
        ],
        [
         2002,
         "2",
         "3500105",
         "Presidente Prudente",
         0,
         0,
         0,
         0,
         0,
         0,
         0,
         0,
         24,
         15,
         2,
         0,
         0,
         0,
         null,
         null,
         0,
         null,
         0,
         0,
         0,
         32,
         0,
         "Adamantina"
        ],
        [
         2002,
         "3",
         "3500105",
         "Presidente Prudente",
         0,
         0,
         0,
         0,
         0,
         0,
         1,
         0,
         21,
         13,
         5,
         0,
         0,
         0,
         null,
         null,
         0,
         null,
         0,
         0,
         0,
         36,
         0,
         "Adamantina"
        ],
        [
         2002,
         "4",
         "3500105",
         "Presidente Prudente",
         0,
         0,
         0,
         0,
         0,
         0,
         1,
         0,
         36,
         13,
         1,
         0,
         0,
         0,
         null,
         null,
         1,
         null,
         0,
         0,
         0,
         45,
         0,
         "Adamantina"
        ],
        [
         2002,
         "5",
         "3500105",
         "Presidente Prudente",
         0,
         0,
         0,
         0,
         0,
         0,
         0,
         0,
         27,
         12,
         1,
         0,
         0,
         0,
         null,
         null,
         1,
         null,
         0,
         0,
         0,
         35,
         0,
         "Adamantina"
        ]
       ],
       "datasetInfos": [],
       "dbfsResultPath": null,
       "isJsonSchema": true,
       "metadata": {},
       "overflow": false,
       "plotOptions": {
        "customPlotOptions": {},
        "displayType": "table",
        "pivotAggregation": null,
        "pivotColumns": null,
        "xColumns": null,
        "yColumns": null
       },
       "removedWidgets": [],
       "schema": [
        {
         "metadata": "{}",
         "name": "ano",
         "type": "\"integer\""
        },
        {
         "metadata": "{}",
         "name": "mes",
         "type": "\"string\""
        },
        {
         "metadata": "{}",
         "name": "id_municipio",
         "type": "\"string\""
        },
        {
         "metadata": "{}",
         "name": "regiao_ssp",
         "type": "\"string\""
        },
        {
         "metadata": "{}",
         "name": "homicidio_doloso",
         "type": "\"integer\""
        },
        {
         "metadata": "{}",
         "name": "numero_de_vitimas_em_homicidio_doloso",
         "type": "\"integer\""
        },
        {
         "metadata": "{}",
         "name": "homicidio_doloso_por_acidente_de_transito",
         "type": "\"integer\""
        },
        {
         "metadata": "{}",
         "name": "numero_de_vitimas_em_homicidio_doloso_por_acidente_de_transito",
         "type": "\"integer\""
        },
        {
         "metadata": "{}",
         "name": "homicidio_culposo_por_acidente_de_transito",
         "type": "\"integer\""
        },
        {
         "metadata": "{}",
         "name": "homicidio_culposo_outros",
         "type": "\"integer\""
        },
        {
         "metadata": "{}",
         "name": "tentativa_de_homicidio",
         "type": "\"integer\""
        },
        {
         "metadata": "{}",
         "name": "lesao_corporal_seguida_de_morte",
         "type": "\"integer\""
        },
        {
         "metadata": "{}",
         "name": "lesao_corporal_dolosa",
         "type": "\"integer\""
        },
        {
         "metadata": "{}",
         "name": "lesao_corporal_culposa_por_acidente_de_transito",
         "type": "\"integer\""
        },
        {
         "metadata": "{}",
         "name": "lesao_corporal_culposa_outras",
         "type": "\"integer\""
        },
        {
         "metadata": "{}",
         "name": "latrocinio",
         "type": "\"integer\""
        },
        {
         "metadata": "{}",
         "name": "numero_de_vitimas_em_latrocinio",
         "type": "\"integer\""
        },
        {
         "metadata": "{}",
         "name": "total_de_estupro",
         "type": "\"integer\""
        },
        {
         "metadata": "{}",
         "name": "estupro",
         "type": "\"integer\""
        },
        {
         "metadata": "{}",
         "name": "estupro_de_vulneravel",
         "type": "\"integer\""
        },
        {
         "metadata": "{}",
         "name": "total_de_roubo_outros",
         "type": "\"integer\""
        },
        {
         "metadata": "{}",
         "name": "roubo_outros",
         "type": "\"integer\""
        },
        {
         "metadata": "{}",
         "name": "roubo_de_veiculo",
         "type": "\"integer\""
        },
        {
         "metadata": "{}",
         "name": "roubo_a_banco",
         "type": "\"integer\""
        },
        {
         "metadata": "{}",
         "name": "roubo_de_carga",
         "type": "\"integer\""
        },
        {
         "metadata": "{}",
         "name": "furto_outros",
         "type": "\"integer\""
        },
        {
         "metadata": "{}",
         "name": "furto_de_veiculo",
         "type": "\"integer\""
        },
        {
         "metadata": "{}",
         "name": "nome",
         "type": "\"string\""
        }
       ],
       "type": "table"
      }
     },
     "output_type": "display_data"
    }
   ],
   "source": [
    "%sql\n",
    "-- Testando a tabela final\n",
    "\n",
    "SELECT * FROM db_ocorrencia.geral\n",
    "LIMIT 5"
   ]
  },
  {
   "cell_type": "markdown",
   "metadata": {
    "application/vnd.databricks.v1+cell": {
     "cellMetadata": {},
     "inputWidgets": {},
     "nuid": "5cff264f-37d7-4ae3-9cf6-7990f6d249fc",
     "showTitle": false,
     "tableResultSettingsMap": {},
     "title": ""
    }
   },
   "source": [
    "# 5. Análise"
   ]
  },
  {
   "cell_type": "markdown",
   "metadata": {
    "application/vnd.databricks.v1+cell": {
     "cellMetadata": {},
     "inputWidgets": {},
     "nuid": "2eb0459f-bc9b-48ca-85a0-c9007d5703c0",
     "showTitle": false,
     "tableResultSettingsMap": {},
     "title": ""
    }
   },
   "source": [
    "## 5.1 - Qualidade de Dados"
   ]
  },
  {
   "cell_type": "markdown",
   "metadata": {
    "application/vnd.databricks.v1+cell": {
     "cellMetadata": {},
     "inputWidgets": {},
     "nuid": "4dface39-4536-4914-a788-cfca0402d5ef",
     "showTitle": false,
     "tableResultSettingsMap": {},
     "title": ""
    }
   },
   "source": [
    "> Analisando os dados gerais, foram encontrados problemas em alguns campos de armazenamento quantitativo, que não mantêm uma consistência ao longo da série histórica, sugerindo que alguns campos foram criados para complementar a tabela de dados final."
   ]
  },
  {
   "cell_type": "markdown",
   "metadata": {
    "application/vnd.databricks.v1+cell": {
     "cellMetadata": {},
     "inputWidgets": {},
     "nuid": "fcc040a9-9193-4548-8421-70b4fcacc607",
     "showTitle": false,
     "tableResultSettingsMap": {},
     "title": ""
    }
   },
   "source": [
    "## 5.2 - Solução de Problemas"
   ]
  },
  {
   "cell_type": "markdown",
   "metadata": {
    "application/vnd.databricks.v1+cell": {
     "cellMetadata": {},
     "inputWidgets": {},
     "nuid": "179708af-c0d5-4fb9-9b5c-be58b5912d32",
     "showTitle": false,
     "tableResultSettingsMap": {},
     "title": ""
    }
   },
   "source": [
    "### 5.2.1 - 5 anos com maiores incidentes de homicidio no Estado de São Paulo\n",
    "> É possível observar que os 5 anos com maior volume de homicídios no estado do período avaliado, foram os primeiros anos dessa série, em order cronológica crescente de 2002 a 2006."
   ]
  },
  {
   "cell_type": "code",
   "execution_count": 0,
   "metadata": {
    "application/vnd.databricks.v1+cell": {
     "cellMetadata": {
      "byteLimit": 2048000,
      "implicitDf": true,
      "rowLimit": 10000
     },
     "inputWidgets": {},
     "nuid": "8f8827d9-b929-4692-8db6-8a77309828a9",
     "showTitle": true,
     "tableResultSettingsMap": {},
     "title": "1) 5 anos com maiores incidentes de homicidio"
    }
   },
   "outputs": [
    {
     "output_type": "display_data",
     "data": {
      "text/html": [
       "<style scoped>\n",
       "  .table-result-container {\n",
       "    max-height: 300px;\n",
       "    overflow: auto;\n",
       "  }\n",
       "  table, th, td {\n",
       "    border: 1px solid black;\n",
       "    border-collapse: collapse;\n",
       "  }\n",
       "  th, td {\n",
       "    padding: 5px;\n",
       "  }\n",
       "  th {\n",
       "    text-align: left;\n",
       "  }\n",
       "</style><div class='table-result-container'><table class='table-result'><thead style='background-color: white'><tr><th>Ano</th><th>Hom_Doloso</th><th>Hom_Dol_AT</th><th>Hom_Cul</th><th>Hom_Cul_AT</th><th>Total</th><th>% Perc</th></tr></thead><tbody><tr><td>2002</td><td>11846</td><td>0</td><td>333</td><td>4740</td><td>16919</td><td>8.96</td></tr><tr><td>2003</td><td>10943</td><td>0</td><td>377</td><td>4601</td><td>15921</td><td>8.43</td></tr><tr><td>2004</td><td>8743</td><td>0</td><td>230</td><td>4609</td><td>13582</td><td>7.19</td></tr><tr><td>2005</td><td>7076</td><td>0</td><td>259</td><td>4708</td><td>12043</td><td>6.37</td></tr><tr><td>2006</td><td>6050</td><td>0</td><td>256</td><td>4479</td><td>10785</td><td>5.71</td></tr></tbody></table></div>"
      ]
     },
     "metadata": {
      "application/vnd.databricks.v1+output": {
       "addedWidgets": {},
       "aggData": [],
       "aggError": "",
       "aggOverflow": false,
       "aggSchema": [],
       "aggSeriesLimitReached": false,
       "aggType": "",
       "arguments": {},
       "columnCustomDisplayInfos": {},
       "data": [
        [
         2002,
         11846,
         0,
         333,
         4740,
         16919,
         "8.96"
        ],
        [
         2003,
         10943,
         0,
         377,
         4601,
         15921,
         "8.43"
        ],
        [
         2004,
         8743,
         0,
         230,
         4609,
         13582,
         "7.19"
        ],
        [
         2005,
         7076,
         0,
         259,
         4708,
         12043,
         "6.37"
        ],
        [
         2006,
         6050,
         0,
         256,
         4479,
         10785,
         "5.71"
        ]
       ],
       "datasetInfos": [],
       "dbfsResultPath": null,
       "isJsonSchema": true,
       "metadata": {},
       "overflow": false,
       "plotOptions": {
        "customPlotOptions": {},
        "displayType": "table",
        "pivotAggregation": null,
        "pivotColumns": null,
        "xColumns": null,
        "yColumns": null
       },
       "removedWidgets": [],
       "schema": [
        {
         "metadata": "{}",
         "name": "Ano",
         "type": "\"integer\""
        },
        {
         "metadata": "{}",
         "name": "Hom_Doloso",
         "type": "\"long\""
        },
        {
         "metadata": "{}",
         "name": "Hom_Dol_AT",
         "type": "\"long\""
        },
        {
         "metadata": "{}",
         "name": "Hom_Cul",
         "type": "\"long\""
        },
        {
         "metadata": "{}",
         "name": "Hom_Cul_AT",
         "type": "\"long\""
        },
        {
         "metadata": "{}",
         "name": "Total",
         "type": "\"long\""
        },
        {
         "metadata": "{}",
         "name": "% Perc",
         "type": "\"decimal(27,2)\""
        }
       ],
       "type": "table"
      }
     },
     "output_type": "display_data"
    }
   ],
   "source": [
    "%sql\n",
    "--// Selecionando as colunas que contém dados de homicídio, somando elas, agrupando por ano e ordenando pelos 5 maiores resultados\n",
    "\n",
    "SELECT\n",
    "ano as Ano,\n",
    "Sum(COALESCE(homicidio_doloso, 0)) as Hom_Doloso,\n",
    "Sum(COALESCE(homicidio_doloso_por_acidente_de_transito, 0)) as Hom_Dol_AT,\n",
    "Sum(COALESCE(homicidio_culposo_outros, 0)) as Hom_Cul,\n",
    "Sum(COALESCE(homicidio_culposo_por_acidente_de_transito, 0)) as Hom_Cul_AT,\n",
    "Sum(COALESCE(homicidio_doloso, 0)) +\n",
    "  Sum(COALESCE(homicidio_doloso_por_acidente_de_transito, 0)) +\n",
    "  Sum(COALESCE(homicidio_culposo_outros, 0)) +\n",
    "  Sum(COALESCE(homicidio_culposo_por_acidente_de_transito, 0))  as Total,\n",
    "\n",
    "Round(((\n",
    "  Sum(COALESCE(homicidio_doloso, 0)) +\n",
    "  Sum(COALESCE(homicidio_doloso_por_acidente_de_transito, 0)) + \n",
    "  Sum(COALESCE(homicidio_culposo_outros, 0)) + \n",
    "  Sum(COALESCE(homicidio_culposo_por_acidente_de_transito, 0))) \n",
    "  * 100.0 / \n",
    "  (SELECT (\n",
    "    Sum(COALESCE(homicidio_doloso, 0)) + \n",
    "    Sum(COALESCE(homicidio_doloso_por_acidente_de_transito, 0)) + \n",
    "    Sum(COALESCE(homicidio_culposo_outros, 0)) + \n",
    "    Sum(COALESCE(homicidio_culposo_por_acidente_de_transito, 0)))\n",
    "    FROM Db_Ocorrencia.geral)),2) AS `% Perc`\n",
    "\n",
    "FROM Db_Ocorrencia.geral\n",
    "GROUP BY Ano\n",
    "ORDER BY Total DESC\n",
    "LIMIT 5"
   ]
  },
  {
   "cell_type": "markdown",
   "metadata": {
    "application/vnd.databricks.v1+cell": {
     "cellMetadata": {},
     "inputWidgets": {},
     "nuid": "4f4923ba-f38b-437b-9a20-c0938eafbc13",
     "showTitle": false,
     "tableResultSettingsMap": {},
     "title": ""
    }
   },
   "source": [
    "___"
   ]
  },
  {
   "cell_type": "markdown",
   "metadata": {
    "application/vnd.databricks.v1+cell": {
     "cellMetadata": {},
     "inputWidgets": {},
     "nuid": "d48f1f31-8348-444b-a069-999e0f5964ff",
     "showTitle": false,
     "tableResultSettingsMap": {},
     "title": ""
    }
   },
   "source": [
    "### 5.2.2 - Top 10 cidades em registros de homicídio nos últimos 10 anos (2011-2021)\n",
    "> Durante o período de 2011 a 2021,  cidade com maior número de homicídios no estado de São Paulo foi a capital Paulista, com 8% de todo o volume de ocorrências, em comparação com os demais municípios do estado."
   ]
  },
  {
   "cell_type": "code",
   "execution_count": 0,
   "metadata": {
    "application/vnd.databricks.v1+cell": {
     "cellMetadata": {
      "byteLimit": 2048000,
      "implicitDf": true,
      "rowLimit": 10000
     },
     "inputWidgets": {},
     "nuid": "5e7ff443-de06-48c9-9b1c-07883baa24bb",
     "showTitle": true,
     "tableResultSettingsMap": {},
     "title": "2) TOP 10 cidades em registros de homicídio (2011-2021)"
    }
   },
   "outputs": [
    {
     "output_type": "display_data",
     "data": {
      "text/html": [
       "<style scoped>\n",
       "  .table-result-container {\n",
       "    max-height: 300px;\n",
       "    overflow: auto;\n",
       "  }\n",
       "  table, th, td {\n",
       "    border: 1px solid black;\n",
       "    border-collapse: collapse;\n",
       "  }\n",
       "  th, td {\n",
       "    padding: 5px;\n",
       "  }\n",
       "  th {\n",
       "    text-align: left;\n",
       "  }\n",
       "</style><div class='table-result-container'><table class='table-result'><thead style='background-color: white'><tr><th>Municipio</th><th>Hom_Doloso</th><th>Hom_Dol_AT</th><th>Hom_Cul</th><th>Hom_Cul_AT</th><th>Total</th><th>% Perc</th></tr></thead><tbody><tr><td>São Paulo</td><td>9610</td><td>135</td><td>485</td><td>4998</td><td>15228</td><td>8.06</td></tr><tr><td>Campinas</td><td>1411</td><td>5</td><td>57</td><td>1201</td><td>2674</td><td>1.42</td></tr><tr><td>Guarulhos</td><td>1401</td><td>11</td><td>56</td><td>920</td><td>2388</td><td>1.26</td></tr><tr><td>Sorocaba</td><td>602</td><td>6</td><td>17</td><td>596</td><td>1221</td><td>0.65</td></tr><tr><td>São Bernardo do Campo</td><td>597</td><td>14</td><td>35</td><td>535</td><td>1181</td><td>0.63</td></tr><tr><td>São José dos Campos</td><td>572</td><td>2</td><td>21</td><td>577</td><td>1172</td><td>0.62</td></tr><tr><td>Ribeirão Preto</td><td>539</td><td>11</td><td>16</td><td>538</td><td>1104</td><td>0.58</td></tr><tr><td>Osasco</td><td>668</td><td>4</td><td>21</td><td>328</td><td>1021</td><td>0.54</td></tr><tr><td>Jundiaí</td><td>235</td><td>6</td><td>40</td><td>587</td><td>868</td><td>0.46</td></tr><tr><td>Santo André</td><td>538</td><td>6</td><td>23</td><td>244</td><td>811</td><td>0.43</td></tr></tbody></table></div>"
      ]
     },
     "metadata": {
      "application/vnd.databricks.v1+output": {
       "addedWidgets": {},
       "aggData": [],
       "aggError": "",
       "aggOverflow": false,
       "aggSchema": [],
       "aggSeriesLimitReached": false,
       "aggType": "",
       "arguments": {},
       "columnCustomDisplayInfos": {},
       "data": [
        [
         "São Paulo",
         9610,
         135,
         485,
         4998,
         15228,
         "8.06"
        ],
        [
         "Campinas",
         1411,
         5,
         57,
         1201,
         2674,
         "1.42"
        ],
        [
         "Guarulhos",
         1401,
         11,
         56,
         920,
         2388,
         "1.26"
        ],
        [
         "Sorocaba",
         602,
         6,
         17,
         596,
         1221,
         "0.65"
        ],
        [
         "São Bernardo do Campo",
         597,
         14,
         35,
         535,
         1181,
         "0.63"
        ],
        [
         "São José dos Campos",
         572,
         2,
         21,
         577,
         1172,
         "0.62"
        ],
        [
         "Ribeirão Preto",
         539,
         11,
         16,
         538,
         1104,
         "0.58"
        ],
        [
         "Osasco",
         668,
         4,
         21,
         328,
         1021,
         "0.54"
        ],
        [
         "Jundiaí",
         235,
         6,
         40,
         587,
         868,
         "0.46"
        ],
        [
         "Santo André",
         538,
         6,
         23,
         244,
         811,
         "0.43"
        ]
       ],
       "datasetInfos": [],
       "dbfsResultPath": null,
       "isJsonSchema": true,
       "metadata": {},
       "overflow": false,
       "plotOptions": {
        "customPlotOptions": {},
        "displayType": "table",
        "pivotAggregation": null,
        "pivotColumns": null,
        "xColumns": null,
        "yColumns": null
       },
       "removedWidgets": [],
       "schema": [
        {
         "metadata": "{}",
         "name": "Municipio",
         "type": "\"string\""
        },
        {
         "metadata": "{}",
         "name": "Hom_Doloso",
         "type": "\"long\""
        },
        {
         "metadata": "{}",
         "name": "Hom_Dol_AT",
         "type": "\"long\""
        },
        {
         "metadata": "{}",
         "name": "Hom_Cul",
         "type": "\"long\""
        },
        {
         "metadata": "{}",
         "name": "Hom_Cul_AT",
         "type": "\"long\""
        },
        {
         "metadata": "{}",
         "name": "Total",
         "type": "\"long\""
        },
        {
         "metadata": "{}",
         "name": "% Perc",
         "type": "\"decimal(27,2)\""
        }
       ],
       "type": "table"
      }
     },
     "output_type": "display_data"
    }
   ],
   "source": [
    "%sql\n",
    "--// Selecionando as colunas que contém dados de homicídio, somando elas, agrupando por município e ordenando pelos 10 maiores resultados\n",
    "\n",
    "SELECT\n",
    "nome as Municipio,\n",
    "Sum(COALESCE(homicidio_doloso,0)) as Hom_Doloso,\n",
    "Sum(COALESCE(homicidio_doloso_por_acidente_de_transito,0)) as Hom_Dol_AT,\n",
    "Sum(COALESCE(homicidio_culposo_outros,0)) as Hom_Cul,\n",
    "Sum(COALESCE(homicidio_culposo_por_acidente_de_transito,0)) as Hom_Cul_AT,\n",
    "Sum(COALESCE(homicidio_doloso,0)) +\n",
    "  Sum(COALESCE(homicidio_doloso_por_acidente_de_transito,0)) +\n",
    "  Sum(COALESCE(homicidio_culposo_outros,0)) +\n",
    "  Sum(COALESCE(homicidio_culposo_por_acidente_de_transito,0))  as Total,\n",
    "\n",
    "Round(((\n",
    "  Sum(COALESCE(homicidio_doloso,0)) +\n",
    "  Sum(COALESCE(homicidio_doloso_por_acidente_de_transito,0)) + \n",
    "  Sum(COALESCE(homicidio_culposo_outros,0)) + \n",
    "  Sum(COALESCE(homicidio_culposo_por_acidente_de_transito,0))) \n",
    "  * 100.0 / \n",
    "  (SELECT (\n",
    "    Sum(COALESCE(homicidio_doloso,0)) + \n",
    "    Sum(COALESCE(homicidio_doloso_por_acidente_de_transito,0)) + \n",
    "    Sum(COALESCE(homicidio_culposo_outros,0)) + \n",
    "    Sum(COALESCE(homicidio_culposo_por_acidente_de_transito,0))) \n",
    "    FROM Db_Ocorrencia.geral)),2) AS `% Perc`\n",
    "\n",
    "FROM Db_Ocorrencia.geral\n",
    "WHERE Ano BETWEEN 2011 and 2021\n",
    "GROUP BY Municipio\n",
    "ORDER BY Total DESC\n",
    "LIMIT 10"
   ]
  },
  {
   "cell_type": "markdown",
   "metadata": {
    "application/vnd.databricks.v1+cell": {
     "cellMetadata": {},
     "inputWidgets": {},
     "nuid": "5c5dd9fc-0dae-4365-b632-34f0bba38f76",
     "showTitle": false,
     "tableResultSettingsMap": {},
     "title": ""
    }
   },
   "source": [
    "___"
   ]
  },
  {
   "cell_type": "markdown",
   "metadata": {
    "application/vnd.databricks.v1+cell": {
     "cellMetadata": {},
     "inputWidgets": {},
     "nuid": "65668e26-93dc-48bf-be33-7d9ccc7b7c4c",
     "showTitle": false,
     "tableResultSettingsMap": {},
     "title": ""
    }
   },
   "source": [
    "### 5.2.3 - Top 5 cidades em registros de Roubo e Furto entre 2010 e 2019\n",
    "> Avaliando a década de 2010, a cidade de São Paulo também aparece com o maior volume de ocorrências de roubos e furtos no estado, representando 21% do total destes tipos de ocorrências."
   ]
  },
  {
   "cell_type": "code",
   "execution_count": 0,
   "metadata": {
    "application/vnd.databricks.v1+cell": {
     "cellMetadata": {
      "byteLimit": 2048000,
      "implicitDf": true,
      "rowLimit": 10000
     },
     "inputWidgets": {},
     "nuid": "9be14849-d9ef-4529-8761-11081dbf7afb",
     "showTitle": true,
     "tableResultSettingsMap": {},
     "title": "3) Top 5 cidades em registros de Roubo e Furto"
    }
   },
   "outputs": [
    {
     "output_type": "display_data",
     "data": {
      "text/html": [
       "<style scoped>\n",
       "  .table-result-container {\n",
       "    max-height: 300px;\n",
       "    overflow: auto;\n",
       "  }\n",
       "  table, th, td {\n",
       "    border: 1px solid black;\n",
       "    border-collapse: collapse;\n",
       "  }\n",
       "  th, td {\n",
       "    padding: 5px;\n",
       "  }\n",
       "  th {\n",
       "    text-align: left;\n",
       "  }\n",
       "</style><div class='table-result-container'><table class='table-result'><thead style='background-color: white'><tr><th>Municipio</th><th>r_outro</th><th>r_banco</th><th>r_carga</th><th>f_outro</th><th>f_veiculo</th><th>Total</th><th>% Perc</th></tr></thead><tbody><tr><td>São Paulo</td><td>416519</td><td>817</td><td>47421</td><td>1942482</td><td>435550</td><td>2842789</td><td>21.16</td></tr><tr><td>Campinas</td><td>22243</td><td>52</td><td>2473</td><td>175257</td><td>42721</td><td>242746</td><td>1.81</td></tr><tr><td>Guarulhos</td><td>20848</td><td>29</td><td>3901</td><td>104217</td><td>29651</td><td>158646</td><td>1.18</td></tr><tr><td>Ribeirão Preto</td><td>9815</td><td>6</td><td>332</td><td>108422</td><td>23205</td><td>141780</td><td>1.06</td></tr><tr><td>Santo André</td><td>22464</td><td>36</td><td>1033</td><td>75385</td><td>36394</td><td>135312</td><td>1.01</td></tr></tbody></table></div>"
      ]
     },
     "metadata": {
      "application/vnd.databricks.v1+output": {
       "addedWidgets": {},
       "aggData": [],
       "aggError": "",
       "aggOverflow": false,
       "aggSchema": [],
       "aggSeriesLimitReached": false,
       "aggType": "",
       "arguments": {},
       "columnCustomDisplayInfos": {},
       "data": [
        [
         "São Paulo",
         416519,
         817,
         47421,
         1942482,
         435550,
         2842789,
         "21.16"
        ],
        [
         "Campinas",
         22243,
         52,
         2473,
         175257,
         42721,
         242746,
         "1.81"
        ],
        [
         "Guarulhos",
         20848,
         29,
         3901,
         104217,
         29651,
         158646,
         "1.18"
        ],
        [
         "Ribeirão Preto",
         9815,
         6,
         332,
         108422,
         23205,
         141780,
         "1.06"
        ],
        [
         "Santo André",
         22464,
         36,
         1033,
         75385,
         36394,
         135312,
         "1.01"
        ]
       ],
       "datasetInfos": [],
       "dbfsResultPath": null,
       "isJsonSchema": true,
       "metadata": {},
       "overflow": false,
       "plotOptions": {
        "customPlotOptions": {},
        "displayType": "table",
        "pivotAggregation": null,
        "pivotColumns": null,
        "xColumns": null,
        "yColumns": null
       },
       "removedWidgets": [],
       "schema": [
        {
         "metadata": "{}",
         "name": "Municipio",
         "type": "\"string\""
        },
        {
         "metadata": "{}",
         "name": "r_outro",
         "type": "\"long\""
        },
        {
         "metadata": "{}",
         "name": "r_banco",
         "type": "\"long\""
        },
        {
         "metadata": "{}",
         "name": "r_carga",
         "type": "\"long\""
        },
        {
         "metadata": "{}",
         "name": "f_outro",
         "type": "\"long\""
        },
        {
         "metadata": "{}",
         "name": "f_veiculo",
         "type": "\"long\""
        },
        {
         "metadata": "{}",
         "name": "Total",
         "type": "\"long\""
        },
        {
         "metadata": "{}",
         "name": "% Perc",
         "type": "\"decimal(27,2)\""
        }
       ],
       "type": "table"
      }
     },
     "output_type": "display_data"
    }
   ],
   "source": [
    "%sql\n",
    "--// Selecionando as colunas que contém dados de roubo e furto entre 2010 e 2019, somando elas, agrupando por município e ordenando pelos 5 maiores resultados\n",
    "\n",
    "SELECT\n",
    "nome as Municipio,\n",
    "Sum(COALESCE(roubo_outros,0)) as r_outro,\n",
    "Sum(COALESCE(roubo_a_banco,0)) as r_banco,\n",
    "Sum(COALESCE(roubo_de_carga,0)) as r_carga,\n",
    "Sum(COALESCE(furto_outros,0)) as f_outro,\n",
    "Sum(COALESCE(furto_de_veiculo,0)) as f_veiculo,\n",
    "\n",
    "Sum(COALESCE(roubo_outros,0)) + \n",
    "  Sum(COALESCE(roubo_a_banco,0)) + \n",
    "  sum(COALESCE(roubo_de_carga,0)) + \n",
    "  sum(COALESCE(furto_outros,0)) + \n",
    "  sum(COALESCE(furto_de_veiculo,0)) as Total,\n",
    "\n",
    "Round(((\n",
    "  Sum(COALESCE(roubo_outros,0)) +\n",
    "  Sum(COALESCE(roubo_a_banco,0)) + \n",
    "  Sum(COALESCE(roubo_de_carga,0)) + \n",
    "  Sum(COALESCE(furto_outros,0)) +\n",
    "  Sum(COALESCE(furto_de_veiculo,0))) \n",
    "  * 100.0 / \n",
    "  (SELECT (\n",
    "    Sum(COALESCE(roubo_outros,0)) + \n",
    "    Sum(COALESCE(roubo_a_banco,0)) + \n",
    "    Sum(COALESCE(roubo_de_carga,0)) + \n",
    "    Sum(COALESCE(furto_outros,0)) +\n",
    "    Sum(COALESCE(furto_de_veiculo,0))) \n",
    "    FROM Db_Ocorrencia.geral)),2) AS `% Perc`\n",
    "\n",
    "FROM Db_Ocorrencia.geral\n",
    "WHERE Ano BETWEEN 2010 and 2019\n",
    "GROUP BY Municipio\n",
    "ORDER BY Total DESC\n",
    "LIMIT 5"
   ]
  },
  {
   "cell_type": "markdown",
   "metadata": {
    "application/vnd.databricks.v1+cell": {
     "cellMetadata": {},
     "inputWidgets": {},
     "nuid": "579f5b7e-e004-469b-9c78-795fa3f473cf",
     "showTitle": false,
     "tableResultSettingsMap": {},
     "title": ""
    }
   },
   "source": [
    "___"
   ]
  },
  {
   "cell_type": "markdown",
   "metadata": {
    "application/vnd.databricks.v1+cell": {
     "cellMetadata": {},
     "inputWidgets": {},
     "nuid": "aeeae2ca-2711-4826-a7e3-256b61cf4163",
     "showTitle": false,
     "tableResultSettingsMap": {},
     "title": ""
    }
   },
   "source": [
    "### 5.2.4 - Histórico da última década (2010-2019) de Roubos e Furtos na cidade de São Paulo\n",
    "> Os últimos 3 anos deste período são os que apresentam maior volume deste tipo de ocorrência, porém podemos ter uma ruído nos dados aqui, uma vez que é somente à partir de 2017 que começam a aparecer registros de \"roubo_outros\"."
   ]
  },
  {
   "cell_type": "code",
   "execution_count": 0,
   "metadata": {
    "application/vnd.databricks.v1+cell": {
     "cellMetadata": {
      "byteLimit": 2048000,
      "implicitDf": true,
      "rowLimit": 10000
     },
     "inputWidgets": {},
     "nuid": "199a33ba-6e68-4508-96de-4ee9bc4c2411",
     "showTitle": true,
     "tableResultSettingsMap": {},
     "title": "4) Volume dos últimos 5a de Roubo/Furto na cidade de São Paulo"
    }
   },
   "outputs": [
    {
     "output_type": "display_data",
     "data": {
      "text/html": [
       "<style scoped>\n",
       "  .table-result-container {\n",
       "    max-height: 300px;\n",
       "    overflow: auto;\n",
       "  }\n",
       "  table, th, td {\n",
       "    border: 1px solid black;\n",
       "    border-collapse: collapse;\n",
       "  }\n",
       "  th, td {\n",
       "    padding: 5px;\n",
       "  }\n",
       "  th {\n",
       "    text-align: left;\n",
       "  }\n",
       "</style><div class='table-result-container'><table class='table-result'><thead style='background-color: white'><tr><th>Ano</th><th>Municipio</th><th>r_outro</th><th>r_banco</th><th>r_carga</th><th>f_outro</th><th>f_veiculo</th><th>Total</th><th>% Perc</th></tr></thead><tbody><tr><td>2010</td><td>São Paulo</td><td>0</td><td>141</td><td>4475</td><td>170181</td><td>42930</td><td>217727</td><td>1.62</td></tr><tr><td>2011</td><td>São Paulo</td><td>0</td><td>149</td><td>4258</td><td>198252</td><td>42778</td><td>245437</td><td>1.83</td></tr><tr><td>2012</td><td>São Paulo</td><td>0</td><td>115</td><td>4353</td><td>199428</td><td>42925</td><td>246821</td><td>1.84</td></tr><tr><td>2013</td><td>São Paulo</td><td>0</td><td>122</td><td>4581</td><td>201305</td><td>48477</td><td>254485</td><td>1.89</td></tr><tr><td>2014</td><td>São Paulo</td><td>0</td><td>86</td><td>5092</td><td>190717</td><td>49703</td><td>245598</td><td>1.83</td></tr><tr><td>2015</td><td>São Paulo</td><td>0</td><td>81</td><td>5066</td><td>177199</td><td>43796</td><td>226142</td><td>1.68</td></tr><tr><td>2016</td><td>São Paulo</td><td>0</td><td>43</td><td>5866</td><td>183350</td><td>44668</td><td>233927</td><td>1.74</td></tr><tr><td>2017</td><td>São Paulo</td><td>146818</td><td>41</td><td>5747</td><td>193686</td><td>42547</td><td>388839</td><td>2.89</td></tr><tr><td>2018</td><td>São Paulo</td><td>132332</td><td>26</td><td>4231</td><td>201798</td><td>40395</td><td>378782</td><td>2.82</td></tr><tr><td>2019</td><td>São Paulo</td><td>137369</td><td>13</td><td>3752</td><td>226566</td><td>37331</td><td>405031</td><td>3.01</td></tr></tbody></table></div>"
      ]
     },
     "metadata": {
      "application/vnd.databricks.v1+output": {
       "addedWidgets": {},
       "aggData": [],
       "aggError": "",
       "aggOverflow": false,
       "aggSchema": [],
       "aggSeriesLimitReached": false,
       "aggType": "",
       "arguments": {},
       "columnCustomDisplayInfos": {},
       "data": [
        [
         2010,
         "São Paulo",
         0,
         141,
         4475,
         170181,
         42930,
         217727,
         "1.62"
        ],
        [
         2011,
         "São Paulo",
         0,
         149,
         4258,
         198252,
         42778,
         245437,
         "1.83"
        ],
        [
         2012,
         "São Paulo",
         0,
         115,
         4353,
         199428,
         42925,
         246821,
         "1.84"
        ],
        [
         2013,
         "São Paulo",
         0,
         122,
         4581,
         201305,
         48477,
         254485,
         "1.89"
        ],
        [
         2014,
         "São Paulo",
         0,
         86,
         5092,
         190717,
         49703,
         245598,
         "1.83"
        ],
        [
         2015,
         "São Paulo",
         0,
         81,
         5066,
         177199,
         43796,
         226142,
         "1.68"
        ],
        [
         2016,
         "São Paulo",
         0,
         43,
         5866,
         183350,
         44668,
         233927,
         "1.74"
        ],
        [
         2017,
         "São Paulo",
         146818,
         41,
         5747,
         193686,
         42547,
         388839,
         "2.89"
        ],
        [
         2018,
         "São Paulo",
         132332,
         26,
         4231,
         201798,
         40395,
         378782,
         "2.82"
        ],
        [
         2019,
         "São Paulo",
         137369,
         13,
         3752,
         226566,
         37331,
         405031,
         "3.01"
        ]
       ],
       "datasetInfos": [],
       "dbfsResultPath": null,
       "isJsonSchema": true,
       "metadata": {},
       "overflow": false,
       "plotOptions": {
        "customPlotOptions": {},
        "displayType": "table",
        "pivotAggregation": null,
        "pivotColumns": null,
        "xColumns": null,
        "yColumns": null
       },
       "removedWidgets": [],
       "schema": [
        {
         "metadata": "{}",
         "name": "Ano",
         "type": "\"integer\""
        },
        {
         "metadata": "{}",
         "name": "Municipio",
         "type": "\"string\""
        },
        {
         "metadata": "{}",
         "name": "r_outro",
         "type": "\"long\""
        },
        {
         "metadata": "{}",
         "name": "r_banco",
         "type": "\"long\""
        },
        {
         "metadata": "{}",
         "name": "r_carga",
         "type": "\"long\""
        },
        {
         "metadata": "{}",
         "name": "f_outro",
         "type": "\"long\""
        },
        {
         "metadata": "{}",
         "name": "f_veiculo",
         "type": "\"long\""
        },
        {
         "metadata": "{}",
         "name": "Total",
         "type": "\"long\""
        },
        {
         "metadata": "{}",
         "name": "% Perc",
         "type": "\"decimal(27,2)\""
        }
       ],
       "type": "table"
      }
     },
     "output_type": "display_data"
    }
   ],
   "source": [
    "%sql\n",
    "--// Selecionando as colunas que contém dados de roubo e furto entre 2010 e 2019 da cidade de São Paulo, somando elas, agrupando por ano e ordenando pelos 10 maiores resultados\n",
    "\n",
    "SELECT\n",
    "ano as Ano,\n",
    "nome as Municipio,\n",
    "Sum(COALESCE(roubo_outros,0)) as r_outro,\n",
    "Sum(COALESCE(roubo_a_banco,0)) as r_banco,\n",
    "Sum(COALESCE(roubo_de_carga,0)) as r_carga,\n",
    "Sum(COALESCE(furto_outros,0)) as f_outro,\n",
    "Sum(COALESCE(furto_de_veiculo,0)) as f_veiculo,\n",
    "\n",
    "Sum(COALESCE(roubo_outros,0)) + \n",
    "  Sum(COALESCE(roubo_a_banco,0)) + \n",
    "  sum(COALESCE(roubo_de_carga,0)) + \n",
    "  sum(COALESCE(furto_outros,0)) + \n",
    "  sum(COALESCE(furto_de_veiculo,0)) as Total,\n",
    "\n",
    "Round(((\n",
    "  Sum(COALESCE(roubo_outros,0)) +\n",
    "  Sum(COALESCE(roubo_a_banco,0)) + \n",
    "  Sum(COALESCE(roubo_de_carga,0)) + \n",
    "  Sum(COALESCE(furto_outros,0)) +\n",
    "  Sum(COALESCE(furto_de_veiculo,0))) \n",
    "  * 100.0 / \n",
    "  (SELECT (\n",
    "    Sum(COALESCE(roubo_outros,0)) + \n",
    "    Sum(COALESCE(roubo_a_banco,0)) + \n",
    "    Sum(COALESCE(roubo_de_carga,0)) + \n",
    "    Sum(COALESCE(furto_outros,0)) +\n",
    "    Sum(COALESCE(furto_de_veiculo,0))) \n",
    "    FROM Db_Ocorrencia.geral)),2) AS `% Perc`\n",
    "\n",
    "FROM Db_Ocorrencia.geral\n",
    "WHERE Ano BETWEEN 2010 and 2019\n",
    "  AND nome = 'São Paulo'\n",
    "GROUP BY ano, nome\n",
    "ORDER BY Ano ASC"
   ]
  },
  {
   "cell_type": "markdown",
   "metadata": {
    "application/vnd.databricks.v1+cell": {
     "cellMetadata": {},
     "inputWidgets": {},
     "nuid": "1b4f135b-0035-46f6-bf87-093c315b44f6",
     "showTitle": false,
     "tableResultSettingsMap": {},
     "title": ""
    }
   },
   "source": [
    "___"
   ]
  },
  {
   "cell_type": "markdown",
   "metadata": {
    "application/vnd.databricks.v1+cell": {
     "cellMetadata": {},
     "inputWidgets": {},
     "nuid": "ce56bd7c-59bd-40e3-8a53-934b047d1945",
     "showTitle": false,
     "tableResultSettingsMap": {},
     "title": ""
    }
   },
   "source": [
    "### 5.2.5 - Top 5 anos em quantidade de ocorrências policiais no estado.\n",
    "> Dentre os 5 anos com maiores ocorrências de toda a base de dados, os 3 principais foram os anos de 2017, 2018 e 2019 respectivamente."
   ]
  },
  {
   "cell_type": "code",
   "execution_count": 0,
   "metadata": {
    "application/vnd.databricks.v1+cell": {
     "cellMetadata": {
      "byteLimit": 2048000,
      "implicitDf": true,
      "rowLimit": 10000
     },
     "inputWidgets": {},
     "nuid": "c8140544-3236-49c8-a504-755dd8902207",
     "showTitle": true,
     "tableResultSettingsMap": {},
     "title": "5) Top 5 anos em quantidade de ocorrências policiais no estado"
    }
   },
   "outputs": [
    {
     "output_type": "display_data",
     "data": {
      "text/html": [
       "<style scoped>\n",
       "  .table-result-container {\n",
       "    max-height: 300px;\n",
       "    overflow: auto;\n",
       "  }\n",
       "  table, th, td {\n",
       "    border: 1px solid black;\n",
       "    border-collapse: collapse;\n",
       "  }\n",
       "  th, td {\n",
       "    padding: 5px;\n",
       "  }\n",
       "  th {\n",
       "    text-align: left;\n",
       "  }\n",
       "</style><div class='table-result-container'><table class='table-result'><thead style='background-color: white'><tr><th>Ano</th><th>TT_Estup</th><th>TT_Furto</th><th>TT_Homic</th><th>Latroc</th><th>TT_LesCorp</th><th>TT_Roubo</th><th>Tent_Hm</th><th>Total</th><th>% Perc</th></tr></thead><tbody><tr><td>2017</td><td>11072</td><td>619394</td><td>3500</td><td>331</td><td>228495</td><td>370519</td><td>3804</td><td>1237115</td><td>5.96</td></tr><tr><td>2018</td><td>11943</td><td>604177</td><td>3137</td><td>270</td><td>207243</td><td>322084</td><td>3484</td><td>1152338</td><td>5.55</td></tr><tr><td>2019</td><td>12371</td><td>612737</td><td>2977</td><td>192</td><td>208390</td><td>301909</td><td>3364</td><td>1141940</td><td>5.50</td></tr><tr><td>2005</td><td>0</td><td>682491</td><td>7335</td><td>315</td><td>347269</td><td>86532</td><td>8188</td><td>1132130</td><td>5.46</td></tr><tr><td>2004</td><td>0</td><td>673448</td><td>8973</td><td>390</td><td>325176</td><td>86076</td><td>9367</td><td>1103430</td><td>5.32</td></tr></tbody></table></div>"
      ]
     },
     "metadata": {
      "application/vnd.databricks.v1+output": {
       "addedWidgets": {},
       "aggData": [],
       "aggError": "",
       "aggOverflow": false,
       "aggSchema": [],
       "aggSeriesLimitReached": false,
       "aggType": "",
       "arguments": {},
       "columnCustomDisplayInfos": {},
       "data": [
        [
         2017,
         11072,
         619394,
         3500,
         331,
         228495,
         370519,
         3804,
         1237115,
         "5.96"
        ],
        [
         2018,
         11943,
         604177,
         3137,
         270,
         207243,
         322084,
         3484,
         1152338,
         "5.55"
        ],
        [
         2019,
         12371,
         612737,
         2977,
         192,
         208390,
         301909,
         3364,
         1141940,
         "5.50"
        ],
        [
         2005,
         0,
         682491,
         7335,
         315,
         347269,
         86532,
         8188,
         1132130,
         "5.46"
        ],
        [
         2004,
         0,
         673448,
         8973,
         390,
         325176,
         86076,
         9367,
         1103430,
         "5.32"
        ]
       ],
       "datasetInfos": [],
       "dbfsResultPath": null,
       "isJsonSchema": true,
       "metadata": {},
       "overflow": false,
       "plotOptions": {
        "customPlotOptions": {},
        "displayType": "table",
        "pivotAggregation": null,
        "pivotColumns": null,
        "xColumns": null,
        "yColumns": null
       },
       "removedWidgets": [],
       "schema": [
        {
         "metadata": "{}",
         "name": "Ano",
         "type": "\"integer\""
        },
        {
         "metadata": "{}",
         "name": "TT_Estup",
         "type": "\"long\""
        },
        {
         "metadata": "{}",
         "name": "TT_Furto",
         "type": "\"long\""
        },
        {
         "metadata": "{}",
         "name": "TT_Homic",
         "type": "\"long\""
        },
        {
         "metadata": "{}",
         "name": "Latroc",
         "type": "\"long\""
        },
        {
         "metadata": "{}",
         "name": "TT_LesCorp",
         "type": "\"long\""
        },
        {
         "metadata": "{}",
         "name": "TT_Roubo",
         "type": "\"long\""
        },
        {
         "metadata": "{}",
         "name": "Tent_Hm",
         "type": "\"long\""
        },
        {
         "metadata": "{}",
         "name": "Total",
         "type": "\"long\""
        },
        {
         "metadata": "{}",
         "name": "% Perc",
         "type": "\"decimal(27,2)\""
        }
       ],
       "type": "table"
      }
     },
     "output_type": "display_data"
    }
   ],
   "source": [
    "%sql\n",
    "--// Selecionando todas as ocorrências do período (2002 - 2021), somando elas, agrupando por ano e ordenando pelos 5 maiores resultados\n",
    "\n",
    "SELECT\n",
    "ano as Ano,\n",
    "Sum(COALESCE(estupro,0)) + \n",
    "  Sum(COALESCE(estupro_de_vulneravel,0)) AS TT_Estup,\n",
    "Sum(COALESCE(furto_de_veiculo,0)) + \n",
    "  Sum(COALESCE(furto_outros,0)) AS TT_Furto,\n",
    "Sum(COALESCE(homicidio_culposo_outros,0)) + \n",
    "  Sum(COALESCE(homicidio_doloso,0)) + \n",
    "  Sum(COALESCE(homicidio_doloso_por_acidente_de_transito,0)) AS TT_Homic,\n",
    "Sum(COALESCE(latrocinio,0)) AS Latroc,\n",
    "Sum(COALESCE(lesao_corporal_culposa_outras,0)) +\n",
    "  Sum(COALESCE(lesao_corporal_culposa_por_acidente_de_transito,0)) +\n",
    "  Sum(COALESCE(lesao_corporal_dolosa,0)) +\n",
    "  Sum(COALESCE(lesao_corporal_seguida_de_morte,0)) AS TT_LesCorp,\n",
    "Sum(COALESCE(roubo_a_banco,0)) +\n",
    "  Sum(COALESCE(roubo_de_carga,0)) +\n",
    "  Sum(COALESCE(roubo_de_veiculo,0)) +\n",
    "  Sum(COALESCE(roubo_outros,0)) AS TT_Roubo,\n",
    "Sum(COALESCE(tentativa_de_homicidio,0)) AS Tent_Hm,\n",
    "\n",
    "\n",
    "Sum(COALESCE(estupro,0))+\n",
    "Sum(COALESCE(estupro_de_vulneravel,0))+\n",
    "Sum(COALESCE(furto_de_veiculo,0))+\n",
    "Sum(COALESCE(furto_outros,0))+\n",
    "Sum(COALESCE(homicidio_culposo_outros,0))+\n",
    "Sum(COALESCE(homicidio_doloso,0))+\n",
    "Sum(COALESCE(homicidio_doloso_por_acidente_de_transito,0))+\n",
    "Sum(COALESCE(latrocinio,0))+\n",
    "Sum(COALESCE(lesao_corporal_culposa_outras,0))+\n",
    "Sum(COALESCE(lesao_corporal_culposa_por_acidente_de_transito,0))+\n",
    "Sum(COALESCE(lesao_corporal_dolosa,0))+\n",
    "Sum(COALESCE(lesao_corporal_seguida_de_morte,0))+\n",
    "Sum(COALESCE(roubo_a_banco,0))+\n",
    "Sum(COALESCE(roubo_de_carga,0))+\n",
    "Sum(COALESCE(roubo_de_veiculo,0))+\n",
    "Sum(COALESCE(roubo_outros,0))+\n",
    "Sum(COALESCE(tentativa_de_homicidio,0))\n",
    "as Total,\n",
    "\n",
    "Round(((\n",
    "  Sum(COALESCE(estupro,0))+\n",
    "  Sum(COALESCE(estupro_de_vulneravel,0))+\n",
    "  Sum(COALESCE(furto_de_veiculo,0))+\n",
    "  Sum(COALESCE(furto_outros,0))+\n",
    "  Sum(COALESCE(homicidio_culposo_outros,0))+\n",
    "  Sum(COALESCE(homicidio_doloso,0))+\n",
    "  Sum(COALESCE(homicidio_doloso_por_acidente_de_transito,0))+\n",
    "  Sum(COALESCE(latrocinio,0))+\n",
    "  Sum(COALESCE(lesao_corporal_culposa_outras,0))+\n",
    "  Sum(COALESCE(lesao_corporal_culposa_por_acidente_de_transito,0))+\n",
    "  Sum(COALESCE(lesao_corporal_dolosa,0))+\n",
    "  Sum(COALESCE(lesao_corporal_seguida_de_morte,0))+\n",
    "  Sum(COALESCE(roubo_a_banco,0))+\n",
    "  Sum(COALESCE(roubo_de_carga,0))+\n",
    "  Sum(COALESCE(roubo_de_veiculo,0))+\n",
    "  Sum(COALESCE(roubo_outros,0))+\n",
    "  Sum(COALESCE(tentativa_de_homicidio,0))) \n",
    "  * 100.0 / \n",
    "  (SELECT (\n",
    "    Sum(COALESCE(estupro,0))+\n",
    "    Sum(COALESCE(estupro_de_vulneravel,0))+\n",
    "    Sum(COALESCE(furto_de_veiculo,0))+\n",
    "    Sum(COALESCE(furto_outros,0))+\n",
    "    Sum(COALESCE(homicidio_culposo_outros,0))+\n",
    "    Sum(COALESCE(homicidio_doloso,0))+\n",
    "    Sum(COALESCE(homicidio_doloso_por_acidente_de_transito,0))+\n",
    "    Sum(COALESCE(latrocinio,0))+\n",
    "    Sum(COALESCE(lesao_corporal_culposa_outras,0))+\n",
    "    Sum(COALESCE(lesao_corporal_culposa_por_acidente_de_transito,0))+\n",
    "    Sum(COALESCE(lesao_corporal_dolosa,0))+\n",
    "    Sum(COALESCE(lesao_corporal_seguida_de_morte,0))+\n",
    "    Sum(COALESCE(roubo_a_banco,0))+\n",
    "    Sum(COALESCE(roubo_de_carga,0))+\n",
    "    Sum(COALESCE(roubo_de_veiculo,0))+\n",
    "    Sum(COALESCE(roubo_outros,0))+\n",
    "    Sum(COALESCE(tentativa_de_homicidio,0))\n",
    ") \n",
    "    FROM Db_Ocorrencia.geral)),2) AS `% Perc`\n",
    "\n",
    "FROM Db_Ocorrencia.geral\n",
    "GROUP BY ano\n",
    "ORDER BY Total DESC\n",
    "LIMIT 5"
   ]
  },
  {
   "cell_type": "markdown",
   "metadata": {
    "application/vnd.databricks.v1+cell": {
     "cellMetadata": {},
     "inputWidgets": {},
     "nuid": "a82a3ced-001c-4d68-aed3-fbdffe661bcf",
     "showTitle": false,
     "tableResultSettingsMap": {},
     "title": ""
    }
   },
   "source": [
    "# 6 - Autoavaliação\n",
    "> Avaliando o trabalho como um todo, no início tive maior dificuldade em compreender o modo em como estruturar todos os requisitos que seriam avaliados.\n",
    "> \n",
    "> Localizei uma base de dados que avaliei interessante para este trabalho e iniciei as etapas de importação, tratamento dos dados e criação do banco de dados e à partir daí elaborando as possíveis análises que seriam feitas dos dados.\n",
    "> \n",
    "> No database geral, não encontrei problemas nos dados que devessem ser expurgados e/ou substituídos. Foi necessária apenas uma conversão de valores nulos ao fazer somas, pois alguns campos possuíam apenas parte do histórico.\n",
    ">\n",
    "> A conclusão geral é de que foi possível trabalhar com os dados obtidos, fazer as análises que julguei serem pertinentes de acordo com o tema escolhido.\n",
    ">\n",
    "> Avaliando o database obtido, entendo que poderia ter sido melhor estruturado, apenas com os dados das ocorrências, sem campos totalizadores incompletos em meio aos demais, o que aumenta o armazenamento e torna esse tipo de campo inútil para análises."
   ]
  }
 ],
 "metadata": {
  "application/vnd.databricks.v1+notebook": {
   "computePreferences": null,
   "dashboards": [],
   "environmentMetadata": {
    "base_environment": "",
    "environment_version": "1"
   },
   "inputWidgetPreferences": null,
   "language": "python",
   "notebookMetadata": {
    "mostRecentlyExecutedCommandWithImplicitDF": {
     "commandId": 3618462777021372,
     "dataframes": [
      "_sqldf"
     ]
    },
    "pythonIndentUnit": 4
   },
   "notebookName": "MVP_EngenhariaDeDados_PUCRio",
   "widgets": {}
  }
 },
 "nbformat": 4,
 "nbformat_minor": 0
}